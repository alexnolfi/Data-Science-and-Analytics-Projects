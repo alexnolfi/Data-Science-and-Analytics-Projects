{
 "cells": [
  {
   "cell_type": "markdown",
   "metadata": {
    "colab_type": "text",
    "id": "y8F-5tMKTQjL"
   },
   "source": [
    "## Assignment 2"
   ]
  },
  {
   "cell_type": "markdown",
   "metadata": {
    "colab_type": "text",
    "id": "07Y_ONdkTQjR"
   },
   "source": [
    "This assignmemt is based on content discussed in module 2 and will work on a solution for the famous Monty Hall game.  Retrieved from https://en.wikipedia.org/wiki/Monty_Hall_problem\n"
   ]
  },
  {
   "cell_type": "markdown",
   "metadata": {
    "colab_type": "text",
    "id": "7hNSzgdzTQjU"
   },
   "source": [
    "## Learning outcomes"
   ]
  },
  {
   "cell_type": "markdown",
   "metadata": {
    "colab_type": "text",
    "id": "2QtRX9sRTQjX"
   },
   "source": [
    "- Program a simple simulation to solve a concrete statistical problem\n",
    "- Develop insight into the Bayesian probabilistic viewpoint\n",
    "- Recognize that statistical intuition can sometimes be wrong\n"
   ]
  },
  {
   "cell_type": "markdown",
   "metadata": {
    "colab_type": "text",
    "id": "lfLffNUWTQja"
   },
   "source": [
    "** Question 1 **\n",
    "Given below is the description of the problem.  \n",
    "\n",
    "Suppose you're on a game show and you're given the choice of three doors. \n",
    "\n",
    "Behind one door is a car; behind the others, goats. The car and the goats were placed randomly behind the doors before the show.\n",
    "\n",
    "The rules are:\n",
    "\n",
    "After you have chosen a door, the door remains closed for the time being. \n",
    "The game show host, Monty Hall, who knows what is behind the doors, now has to open one of the two remaining doors, and the door he opens must have a goat behind it. If both remaining doors have goats behind them, he chooses one randomly. \n",
    "\n",
    "After Monty opens a door with a goat, he will ask you to decide whether you want to stay with your first choice or to switch to the last remaining door. \n",
    "Imagine that you chose Door 1 and the host opens Door 3, which has a goat. \n",
    "He then asks you \"Do you want to switch to Door Number 2?\" Is it to your advantage to change your choice? \n",
    "\n",
    "**NOTES:**\n",
    "1. The player may initially choose any of the three doors (not just Door 1).\n",
    "2. The host opens a different door revealing a goat (not necessarily Door 3).\n",
    "3. The host gives the player a second choice between the two remaining unopened doors. \n"
   ]
  },
  {
   "cell_type": "markdown",
   "metadata": {
    "colab_type": "text",
    "id": "L041acdjTQjb"
   },
   "source": [
    "![image.png](attachment:image.png)\n",
    "\n",
    "(Source: https://en.wikipedia.org/wiki/Monty_Hall_problem#/media/File:Monty_open_door.svg )\n",
    "\n",
    "[Monty hall problem ]"
   ]
  },
  {
   "cell_type": "markdown",
   "metadata": {
    "colab_type": "text",
    "id": "dAuGtwxzTQje"
   },
   "source": [
    "- Write Python code to solve the Monty Hall problem. Simulate at least a thousand games using three doors for each strategy and show the results in such a way as to make it easy to compare the effects of each strategy.\n"
   ]
  },
  {
   "cell_type": "code",
   "execution_count": 44,
   "metadata": {
    "colab": {},
    "colab_type": "code",
    "id": "GlZk3mKETQjg"
   },
   "outputs": [],
   "source": [
    "#Import libraries required for the simulation\n",
    "import random as rd\n",
    "import pandas as pd\n",
    "import matplotlib.pyplot as plt"
   ]
  },
  {
   "cell_type": "code",
   "execution_count": 46,
   "metadata": {},
   "outputs": [
    {
     "name": "stdout",
     "output_type": "stream",
     "text": [
      "331\n"
     ]
    }
   ],
   "source": [
    "#Case 1 - The contestant keeps his/her original door\n",
    "\n",
    "#Set player 1 win count to zero\n",
    "p1_wins=0\n",
    "\n",
    "#Build the simulation with 1000 runs and the player keeping their intial choice\n",
    "for i in range(1000):\n",
    "    car_door=rd.randint(1, 3) #Randomly choose which door has the car\n",
    "    p1_choice=rd.randint(1, 3) #Player selects one of the three doors\n",
    "    host_doors=[1, 2, 3] #Create the door list from which the host will remove a door\n",
    "    host_doors.remove(car_door) #The host cannot open the car door, so it must be removed\n",
    "    if p1_choice!=car_door:\n",
    "        host_doors.remove(p1_choice) #This ensures that the host cannot open the door P1 chose when it's not the winning door\n",
    "    opened_door=random.choice(host_doors) #The host randomly opens one of the possible remaining doors\n",
    "    if p1_choice==car_door: \n",
    "        p1_wins+=1 #Counter assigns player 1 a win each time his/her choice is the car door\n",
    "\n",
    "print(p1_wins)"
   ]
  },
  {
   "cell_type": "code",
   "execution_count": 47,
   "metadata": {},
   "outputs": [
    {
     "name": "stdout",
     "output_type": "stream",
     "text": [
      "659\n"
     ]
    }
   ],
   "source": [
    "#Case 2 - The contestant SWITCHES to the other door\n",
    "\n",
    "#Set player 2 win count to zero\n",
    "p2_wins=0\n",
    "\n",
    "#Build the simulation with 1000 runs and the player SWITCHING doors\n",
    "for i in range(1000):\n",
    "    car_door=rd.randint(1, 3) #Randomly choose which door has the car\n",
    "    p2_choice=rd.randint(1, 3) #Player selects one of the three doors\n",
    "    host_doors=[1, 2, 3] #Create the door list from which the host will remove a door\n",
    "    host_doors.remove(car_door) #The host cannot open the car door, so it must be removed\n",
    "    if p2_choice!=car_door:\n",
    "        host_doors.remove(p2_choice) #This ensures that the host cannot open the door P2 chose when it's not the winning door\n",
    "    opened_door=random.choice(host_doors) #The host randomly opens one of the possible remaining doors\n",
    "    \n",
    "    #In case 2, we must account for P2 switching his/her choice\n",
    "    player_doors=[1, 2, 3]\n",
    "    player_doors.remove(opened_door) #The player cannot choose the door opened by the host\n",
    "    player_doors.remove(p2_choice) #The player will always switch from his/her intial choice\n",
    "    p2_new_choice=rd.choice(player_doors) #There will never be more than one option at this point\n",
    "    if p2_new_choice==car_door:\n",
    "        p2_wins+=1\n",
    "\n",
    "print(p2_wins)"
   ]
  },
  {
   "cell_type": "code",
   "execution_count": 48,
   "metadata": {},
   "outputs": [
    {
     "name": "stdout",
     "output_type": "stream",
     "text": [
      "331\n",
      "659\n",
      "0.331\n",
      "0.659\n"
     ]
    }
   ],
   "source": [
    "#Compare the two strategies' effectiveness\n",
    "\n",
    "#Total Number of Wins\n",
    "#Player 1\n",
    "print(p1_wins)\n",
    "\n",
    "#Player 2\n",
    "print(p2_wins)\n",
    "\n",
    "#Winning Percentage\n",
    "#Player 1\n",
    "print(p1_wins/1000)\n",
    "print(p2_wins/1000)\n",
    "\n",
    "#Of course, as the number of simulations increases, we would expect these \"winning percentage\" values to approach their\n",
    "#theoretial values of 1/3 (Player 1) and 2/3 (Player 2)"
   ]
  },
  {
   "cell_type": "code",
   "execution_count": 49,
   "metadata": {},
   "outputs": [
    {
     "data": {
      "text/html": [
       "<div>\n",
       "<style scoped>\n",
       "    .dataframe tbody tr th:only-of-type {\n",
       "        vertical-align: middle;\n",
       "    }\n",
       "\n",
       "    .dataframe tbody tr th {\n",
       "        vertical-align: top;\n",
       "    }\n",
       "\n",
       "    .dataframe thead th {\n",
       "        text-align: right;\n",
       "    }\n",
       "</style>\n",
       "<table border=\"1\" class=\"dataframe\">\n",
       "  <thead>\n",
       "    <tr style=\"text-align: right;\">\n",
       "      <th></th>\n",
       "      <th>Total Number of Wins</th>\n",
       "      <th>Winning Percentage</th>\n",
       "    </tr>\n",
       "  </thead>\n",
       "  <tbody>\n",
       "    <tr>\n",
       "      <td>Player 1</td>\n",
       "      <td>331</td>\n",
       "      <td>0.331</td>\n",
       "    </tr>\n",
       "    <tr>\n",
       "      <td>Player 2</td>\n",
       "      <td>659</td>\n",
       "      <td>0.659</td>\n",
       "    </tr>\n",
       "  </tbody>\n",
       "</table>\n",
       "</div>"
      ],
      "text/plain": [
       "          Total Number of Wins  Winning Percentage\n",
       "Player 1                   331               0.331\n",
       "Player 2                   659               0.659"
      ]
     },
     "execution_count": 49,
     "metadata": {},
     "output_type": "execute_result"
    }
   ],
   "source": [
    "#For clarity's sake, we can create place these values in an easy-to-read dataframe\n",
    "results = {\"Total Number of Wins\": [p1_wins, p2_wins], \"Winning Percentage\": [p1_wins/1000, p2_wins/1000]}\n",
    "results_df = pd.DataFrame(data=results, index=[\"Player 1\", \"Player 2\"])\n",
    "results_df"
   ]
  },
  {
   "cell_type": "code",
   "execution_count": 50,
   "metadata": {},
   "outputs": [
    {
     "data": {
      "text/plain": [
       "<matplotlib.axes._subplots.AxesSubplot at 0x293dafda108>"
      ]
     },
     "execution_count": 50,
     "metadata": {},
     "output_type": "execute_result"
    },
    {
     "data": {
      "image/png": "[encoded data removed]",
      "text/plain": [
       "<Figure size 432x288 with 1 Axes>"
      ]
     },
     "metadata": {
      "needs_background": "light"
     },
     "output_type": "display_data"
    }
   ],
   "source": [
    "#We can also examine the difference between strategies visually, using pd.plot\n",
    "results_df.plot.bar(title=\"Comparison of P1 and P2 Strategies\", legend=False, rot=0)"
   ]
  },
  {
   "cell_type": "code",
   "execution_count": null,
   "metadata": {},
   "outputs": [],
   "source": [
    "#Based on the above crosstab and plot, it is evident that switching is a better strategy than holding, as the win probability\n",
    "#is essentially doubled by switching"
   ]
  }
 ],
 "metadata": {
  "colab": {
   "name": "Assignment 2.ipynb",
   "provenance": [],
   "version": "0.3.2"
  },
  "kernelspec": {
   "display_name": "Python 3",
   "language": "python",
   "name": "python3"
  },
  "language_info": {
   "codemirror_mode": {
    "name": "ipython",
    "version": 3
   },
   "file_extension": ".py",
   "mimetype": "text/x-python",
   "name": "python",
   "nbconvert_exporter": "python",
   "pygments_lexer": "ipython3",
   "version": "3.7.4"
  }
 },
 "nbformat": 4,
 "nbformat_minor": 1
}

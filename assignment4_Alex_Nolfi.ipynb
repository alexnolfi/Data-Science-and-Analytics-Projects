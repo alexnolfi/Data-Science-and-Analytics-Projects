{
 "cells": [
  {
   "cell_type": "markdown",
   "metadata": {},
   "source": [
    "## Assignment 4"
   ]
  },
  {
   "cell_type": "markdown",
   "metadata": {},
   "source": [
    "This assignment asks you to use resources at hand to apply module 6 - Linear Regression to several sets of data."
   ]
  },
  {
   "cell_type": "markdown",
   "metadata": {},
   "source": [
    "## Learning Outcomes"
   ]
  },
  {
   "cell_type": "markdown",
   "metadata": {},
   "source": [
    "- Exploratory analysis for regression\n",
    "- Understand difference between linear and non-linear models\n",
    "- Carry out OLS regression model\n",
    "- Evaluate model\n"
   ]
  },
  {
   "cell_type": "markdown",
   "metadata": {},
   "source": [
    "**Question 1**\n",
    "\n",
    "* For each data set in Assignment4_linear_regression_data.xlsx:\n",
    "\n",
    "- Create a scatter plot and visually decide if a linear model is appropriate (a matrix scatter plot will would be most efficient).\n",
    "\n",
    "* If the relation is not linear, transform the data accordingly. \n",
    " - Try logarithm, exponential, square root, square, etc., for X and/or Y until you see a linear relation.  You only need to report what is the transformation chosen, not all the attempts. \n",
    " Note:  most of the time, you can guess visually. A systematic way is to create a matrix scatter plot of the different transformations.  A generic way we did not cover is to use a Box-Cox transformation. \n",
    " \n",
    "* Create an OLS model for the original and transformed data if required. \n",
    " - Evaluate if the OLS assumptions are met: normality of errors centered around zero, equal variance, etc..., for the original data and transformed data if appropriate. \n",
    "\n",
    " - Comment how the transformation impacted the different assumptions. (This should be done only by looking at the output diagnostic charts created by the software)\n",
    " - If datasets have outliers, remove the outliers and see the effect in the model (slope, intercept and R-square)\n"
   ]
  },
  {
   "cell_type": "markdown",
   "metadata": {
    "collapsed": true
   },
   "source": [
    "The output of the assignment should be: \n",
    "\n",
    "- OLS full report for the original and transformed data if appropriate (only two datasets should need transformation).\n",
    "\n",
    "- A short comment on the validity of the linear assumptions for the original and transformed data set when appropriate (it should not need to be longer than a couple of sentences).\n",
    "\n",
    "- An interpretation of the slope and intercept in relation to the original data, i.e. if the model is linear [intercept value] is the expected value when the independent variable is zero, etc.).  If the model is not linear, you need to transform the equation back to its original form.  \n",
    "\n",
    "Check out the following if you need further guidance:\n",
    "http://www.bzst.com/2009/09/interpreting-log-transformed-variables.html\n",
    "\n",
    "https://stats.idre.ucla.edu/other/mult-pkg/faq/general/faqhow-do-i-interpret-a-regression-model-when-some-variables-are-log-transformed/\n",
    "\n",
    "https://stats.idre.ucla.edu/sas/faq/how-can-i-interpret-log-transformed-variables-in-terms-of-percent-change-in-linear-regression/\n",
    "\n",
    "https://stats.stackexchange.com/questions/266722/interpretation-of-linear-regression-results-where-dependent-variable-is-transfor\n",
    "\n",
    "- If the dataset have outliers, determine if the outlier have leverage or not by comparing the OLS with and without the outlier.\n"
   ]
  },
  {
   "cell_type": "code",
   "execution_count": 2,
   "metadata": {},
   "outputs": [],
   "source": [
    "#Import necessary packages\n",
    "\n",
    "#Check working directory\n",
    "import os\n",
    "os.getcwd()\n",
    "\n",
    "#We'll need both pandas, matplotlib, and statsmodel for this exercise\n",
    "import pandas as pd\n",
    "import matplotlib.pyplot as plt\n",
    "import statsmodels.formula.api as sm\n",
    "import math\n",
    "import numpy as np"
   ]
  },
  {
   "cell_type": "code",
   "execution_count": 3,
   "metadata": {},
   "outputs": [
    {
     "data": {
      "image/png": "[encoded data removed]",
      "text/plain": [
       "<Figure size 432x288 with 1 Axes>"
      ]
     },
     "metadata": {
      "needs_background": "light"
     },
     "output_type": "display_data"
    }
   ],
   "source": [
    "#Dataset 1\n",
    "\n",
    "#Import set 1\n",
    "set_1 = pd.read_csv(\"Set_1.csv\")\n",
    "\n",
    "#Plot set 1 to determine whether a transformation is required\n",
    "plt.plot(set_1.x, set_1.y, 'o')\n",
    "plt.xlabel('x')\n",
    "plt.ylabel('y')\n",
    "plt.title('Set 1')\n",
    "plt.show()"
   ]
  },
  {
   "cell_type": "code",
   "execution_count": 4,
   "metadata": {},
   "outputs": [
    {
     "data": {
      "text/html": [
       "<table class=\"simpletable\">\n",
       "<caption>OLS Regression Results</caption>\n",
       "<tr>\n",
       "  <th>Dep. Variable:</th>            <td>y</td>        <th>  R-squared:         </th> <td>   0.979</td>\n",
       "</tr>\n",
       "<tr>\n",
       "  <th>Model:</th>                   <td>OLS</td>       <th>  Adj. R-squared:    </th> <td>   0.979</td>\n",
       "</tr>\n",
       "<tr>\n",
       "  <th>Method:</th>             <td>Least Squares</td>  <th>  F-statistic:       </th> <td>   4579.</td>\n",
       "</tr>\n",
       "<tr>\n",
       "  <th>Date:</th>             <td>Sat, 14 Mar 2020</td> <th>  Prob (F-statistic):</th> <td>4.47e-84</td>\n",
       "</tr>\n",
       "<tr>\n",
       "  <th>Time:</th>                 <td>11:35:47</td>     <th>  Log-Likelihood:    </th> <td> -206.03</td>\n",
       "</tr>\n",
       "<tr>\n",
       "  <th>No. Observations:</th>      <td>   100</td>      <th>  AIC:               </th> <td>   416.1</td>\n",
       "</tr>\n",
       "<tr>\n",
       "  <th>Df Residuals:</th>          <td>    98</td>      <th>  BIC:               </th> <td>   421.3</td>\n",
       "</tr>\n",
       "<tr>\n",
       "  <th>Df Model:</th>              <td>     1</td>      <th>                     </th>     <td> </td>   \n",
       "</tr>\n",
       "<tr>\n",
       "  <th>Covariance Type:</th>      <td>nonrobust</td>    <th>                     </th>     <td> </td>   \n",
       "</tr>\n",
       "</table>\n",
       "<table class=\"simpletable\">\n",
       "<tr>\n",
       "      <td></td>         <th>coef</th>     <th>std err</th>      <th>t</th>      <th>P>|t|</th>  <th>[0.025</th>    <th>0.975]</th>  \n",
       "</tr>\n",
       "<tr>\n",
       "  <th>Intercept</th> <td>    0.2381</td> <td>    0.469</td> <td>    0.508</td> <td> 0.613</td> <td>   -0.693</td> <td>    1.169</td>\n",
       "</tr>\n",
       "<tr>\n",
       "  <th>x</th>         <td>    4.9843</td> <td>    0.074</td> <td>   67.669</td> <td> 0.000</td> <td>    4.838</td> <td>    5.130</td>\n",
       "</tr>\n",
       "</table>\n",
       "<table class=\"simpletable\">\n",
       "<tr>\n",
       "  <th>Omnibus:</th>       <td> 4.971</td> <th>  Durbin-Watson:     </th> <td>   1.982</td>\n",
       "</tr>\n",
       "<tr>\n",
       "  <th>Prob(Omnibus):</th> <td> 0.083</td> <th>  Jarque-Bera (JB):  </th> <td>   4.783</td>\n",
       "</tr>\n",
       "<tr>\n",
       "  <th>Skew:</th>          <td>-0.536</td> <th>  Prob(JB):          </th> <td>  0.0915</td>\n",
       "</tr>\n",
       "<tr>\n",
       "  <th>Kurtosis:</th>      <td> 2.988</td> <th>  Cond. No.          </th> <td>    15.9</td>\n",
       "</tr>\n",
       "</table><br/><br/>Warnings:<br/>[1] Standard Errors assume that the covariance matrix of the errors is correctly specified."
      ],
      "text/plain": [
       "<class 'statsmodels.iolib.summary.Summary'>\n",
       "\"\"\"\n",
       "                            OLS Regression Results                            \n",
       "==============================================================================\n",
       "Dep. Variable:                      y   R-squared:                       0.979\n",
       "Model:                            OLS   Adj. R-squared:                  0.979\n",
       "Method:                 Least Squares   F-statistic:                     4579.\n",
       "Date:                Sat, 14 Mar 2020   Prob (F-statistic):           4.47e-84\n",
       "Time:                        11:35:47   Log-Likelihood:                -206.03\n",
       "No. Observations:                 100   AIC:                             416.1\n",
       "Df Residuals:                      98   BIC:                             421.3\n",
       "Df Model:                           1                                         \n",
       "Covariance Type:            nonrobust                                         \n",
       "==============================================================================\n",
       "                 coef    std err          t      P>|t|      [0.025      0.975]\n",
       "------------------------------------------------------------------------------\n",
       "Intercept      0.2381      0.469      0.508      0.613      -0.693       1.169\n",
       "x              4.9843      0.074     67.669      0.000       4.838       5.130\n",
       "==============================================================================\n",
       "Omnibus:                        4.971   Durbin-Watson:                   1.982\n",
       "Prob(Omnibus):                  0.083   Jarque-Bera (JB):                4.783\n",
       "Skew:                          -0.536   Prob(JB):                       0.0915\n",
       "Kurtosis:                       2.988   Cond. No.                         15.9\n",
       "==============================================================================\n",
       "\n",
       "Warnings:\n",
       "[1] Standard Errors assume that the covariance matrix of the errors is correctly specified.\n",
       "\"\"\""
      ]
     },
     "execution_count": 4,
     "metadata": {},
     "output_type": "execute_result"
    }
   ],
   "source": [
    "#Based on the plot above, it is apparent that the relationship between x and y is linear in nature. Thus, no transformation is\n",
    "#required before moving onto the modeling stage.\n",
    "\n",
    "#Create the linear model\n",
    "model_1 = sm.ols('y~x', data=set_1).fit()\n",
    "model_1.summary()"
   ]
  },
  {
   "cell_type": "code",
   "execution_count": 5,
   "metadata": {},
   "outputs": [],
   "source": [
    "#Based on the model summary, it appears that the coefficient estimates of 0.2381 and 4.9843 predict Y very effectively, as \n",
    "#the R2 is very high at 0.979. The next step is to evaluate whether the linear regression assumptions have been met."
   ]
  },
  {
   "cell_type": "code",
   "execution_count": 6,
   "metadata": {},
   "outputs": [
    {
     "data": {
      "image/png": "[encoded data removed]",
      "text/plain": [
       "<Figure size 432x288 with 1 Axes>"
      ]
     },
     "metadata": {
      "needs_background": "light"
     },
     "output_type": "display_data"
    }
   ],
   "source": [
    "#Evaluating OLS assumptions (simple linear regression)\n",
    "\n",
    "#In evaluating the regression assumptions, it will be helpful to add our predicted values to the set_1 df\n",
    "intercept, slope=model_1.params\n",
    "set_1['y_est'] = intercept + slope * set_1.x\n",
    "set_1\n",
    "\n",
    "#Assumption 1 - Linearity\n",
    "\n",
    "#Based on the scatter plot created above, we can confirm that X and Y are linearly related, meaning that this assumption is\n",
    "#satisfied (plot reproduced below for convenience)\n",
    "plt.plot(set_1.x, set_1.y, 'o')\n",
    "plt.xlabel('x')\n",
    "plt.ylabel('y')\n",
    "plt.title('Set 1')\n",
    "plt.show()"
   ]
  },
  {
   "cell_type": "code",
   "execution_count": 7,
   "metadata": {},
   "outputs": [
    {
     "data": {
      "image/png": "[encoded data removed]",
      "text/plain": [
       "<Figure size 432x288 with 1 Axes>"
      ]
     },
     "metadata": {
      "needs_background": "light"
     },
     "output_type": "display_data"
    }
   ],
   "source": [
    "#Assumption 2 - Normality of Error Terms\n",
    "\n",
    "#Although we don't know the true error terms (difference between observed values and the true values originating from the\n",
    "#data generating process), we can test residuals as a proxy. Here, a (relatively) straight line is indicative of normally \n",
    "#distributed residuals.\n",
    "import pylab \n",
    "import scipy.stats as stats \n",
    "stats.probplot(set_1.y-set_1.y_est, dist=\"norm\", plot=pylab) #Residuals=y_observed-y_est \n",
    "pylab.title('QQ Plot: Test Residuals') \n",
    "pylab.show()"
   ]
  },
  {
   "cell_type": "code",
   "execution_count": 9,
   "metadata": {},
   "outputs": [],
   "source": [
    "#With the exception of a few extreme values (bottom left, top right of plot), the residuals appear to be normally distributed,\n",
    "#which satisfies the second assumption."
   ]
  },
  {
   "cell_type": "code",
   "execution_count": 10,
   "metadata": {},
   "outputs": [
    {
     "data": {
      "image/png": "[encoded data removed]",
      "text/plain": [
       "<Figure size 432x288 with 1 Axes>"
      ]
     },
     "metadata": {
      "needs_background": "light"
     },
     "output_type": "display_data"
    }
   ],
   "source": [
    "#Assumption 3 - Homeoskedascticity (Equal Variance in Error Terms)\n",
    "\n",
    "#By plotting residuals vs predicted values of y, we can determine if variance increases (or decreases) as y_est increases\n",
    "plt.plot(set_1.y_est, set_1.y-set_1.y_est,'o')\n",
    "plt.xlabel('Predicted y')\n",
    "plt.ylabel('Residuals')\n",
    "plt.title('Predicted vs Residuals')\n",
    "plt.tick_params(axis='x')\n",
    "plt.tick_params(axis='y')"
   ]
  },
  {
   "cell_type": "code",
   "execution_count": 11,
   "metadata": {},
   "outputs": [],
   "source": [
    "#Based on the above plot, it does not appear that variance of residual terms increases as y_est increases, which satifies\n",
    "#the third assumption of homeoskedasticity (a model with heteroskedasticity, on the other hand, would exhibit a discernible\n",
    "#upward/downard linear trend for this plot)"
   ]
  },
  {
   "cell_type": "code",
   "execution_count": 13,
   "metadata": {},
   "outputs": [
    {
     "data": {
      "image/png": "[encoded data removed]",
      "text/plain": [
       "<Figure size 432x288 with 1 Axes>"
      ]
     },
     "metadata": {
      "needs_background": "light"
     },
     "output_type": "display_data"
    }
   ],
   "source": [
    "#The final piece of the puzzle for dataset 1 is to identify any potential outliers. By inspection, we see that this dataset\n",
    "#does not contain outliers.\n",
    "plt.plot(set_1.x, set_1.y, \"o\")\n",
    "plt.xlabel(\"x\")\n",
    "plt.ylabel(\"y\")\n",
    "plt.title(\"Set 1 - Outlier Check\")\n",
    "plt.show()"
   ]
  },
  {
   "cell_type": "code",
   "execution_count": 227,
   "metadata": {},
   "outputs": [
    {
     "name": "stdout",
     "output_type": "stream",
     "text": [
      "The intercept for this model can be interpreted as the value of the resposne (Y) when the random variable X equals 0.\n",
      "The slope of this model can be interpreted as the increase in the reponse (Y) for a unit increase of the RV X.\n",
      "\n",
      "           Only Model\n",
      "Intercept      0.2381\n",
      "Slope          4.9843\n",
      "R-Square       0.9790\n",
      "NOBS         100.0000\n"
     ]
    }
   ],
   "source": [
    "#Summary of Dataset 1\n",
    "\n",
    "#To summarize the key information regarding dataset 1, I'll create a dataframe with some key model parameters\n",
    "summary_1 = pd.DataFrame({\"Only Model\": [0.2381, 4.9843, 0.979, 100]}, \n",
    "                          index=['Intercept', 'Slope', 'R-Square', 'NOBS'])\n",
    "\n",
    "#Interpretation of Intercept and Slope\n",
    "print(\"The intercept for this model can be interpreted as the value of the resposne (Y) when the random variable X equals 0.\")\n",
    "print(\"The slope of this model can be interpreted as the increase in the reponse (Y) for a unit increase of the RV X.\")\n",
    "print(\"\")\n",
    "print(summary_1)"
   ]
  },
  {
   "cell_type": "code",
   "execution_count": 14,
   "metadata": {},
   "outputs": [
    {
     "data": {
      "image/png": "[encoded data removed]",
      "text/plain": [
       "<Figure size 432x288 with 1 Axes>"
      ]
     },
     "metadata": {
      "needs_background": "light"
     },
     "output_type": "display_data"
    }
   ],
   "source": [
    "#Dataset 2\n",
    "\n",
    "#Import set 2\n",
    "set_2 = pd.read_csv(\"Set_2.csv\")\n",
    "\n",
    "#Plot set 2 to determine whether a transformation is required\n",
    "plt.plot(set_2.x, set_2.y, 'or')\n",
    "plt.xlabel('x')\n",
    "plt.ylabel('y')\n",
    "plt.title('Set 2')\n",
    "plt.show()"
   ]
  },
  {
   "cell_type": "code",
   "execution_count": 15,
   "metadata": {},
   "outputs": [
    {
     "data": {
      "text/html": [
       "<div>\n",
       "<style scoped>\n",
       "    .dataframe tbody tr th:only-of-type {\n",
       "        vertical-align: middle;\n",
       "    }\n",
       "\n",
       "    .dataframe tbody tr th {\n",
       "        vertical-align: top;\n",
       "    }\n",
       "\n",
       "    .dataframe thead th {\n",
       "        text-align: right;\n",
       "    }\n",
       "</style>\n",
       "<table border=\"1\" class=\"dataframe\">\n",
       "  <thead>\n",
       "    <tr style=\"text-align: right;\">\n",
       "      <th></th>\n",
       "      <th>y</th>\n",
       "      <th>x</th>\n",
       "    </tr>\n",
       "  </thead>\n",
       "  <tbody>\n",
       "    <tr>\n",
       "      <td>y</td>\n",
       "      <td>1.000000</td>\n",
       "      <td>0.745168</td>\n",
       "    </tr>\n",
       "    <tr>\n",
       "      <td>x</td>\n",
       "      <td>0.745168</td>\n",
       "      <td>1.000000</td>\n",
       "    </tr>\n",
       "  </tbody>\n",
       "</table>\n",
       "</div>"
      ],
      "text/plain": [
       "          y         x\n",
       "y  1.000000  0.745168\n",
       "x  0.745168  1.000000"
      ]
     },
     "execution_count": 15,
     "metadata": {},
     "output_type": "execute_result"
    }
   ],
   "source": [
    "#Although this plot doesn't have an immediately clear linear relationship like plot 1 did, you can still tell it's linear with\n",
    "#the naked eye - this can be confirmed with a quick correlation calculation\n",
    "set_2.corr()"
   ]
  },
  {
   "cell_type": "code",
   "execution_count": 16,
   "metadata": {},
   "outputs": [],
   "source": [
    "#Here, we observe approximately a 0.75 correlation between x and y, so no geometric transformation is required for set 2"
   ]
  },
  {
   "cell_type": "code",
   "execution_count": 17,
   "metadata": {},
   "outputs": [
    {
     "data": {
      "text/html": [
       "<table class=\"simpletable\">\n",
       "<caption>OLS Regression Results</caption>\n",
       "<tr>\n",
       "  <th>Dep. Variable:</th>            <td>y</td>        <th>  R-squared:         </th> <td>   0.555</td>\n",
       "</tr>\n",
       "<tr>\n",
       "  <th>Model:</th>                   <td>OLS</td>       <th>  Adj. R-squared:    </th> <td>   0.551</td>\n",
       "</tr>\n",
       "<tr>\n",
       "  <th>Method:</th>             <td>Least Squares</td>  <th>  F-statistic:       </th> <td>   122.4</td>\n",
       "</tr>\n",
       "<tr>\n",
       "  <th>Date:</th>             <td>Sat, 14 Mar 2020</td> <th>  Prob (F-statistic):</th> <td>6.11e-19</td>\n",
       "</tr>\n",
       "<tr>\n",
       "  <th>Time:</th>                 <td>11:35:49</td>     <th>  Log-Likelihood:    </th> <td> -375.73</td>\n",
       "</tr>\n",
       "<tr>\n",
       "  <th>No. Observations:</th>      <td>   100</td>      <th>  AIC:               </th> <td>   755.5</td>\n",
       "</tr>\n",
       "<tr>\n",
       "  <th>Df Residuals:</th>          <td>    98</td>      <th>  BIC:               </th> <td>   760.7</td>\n",
       "</tr>\n",
       "<tr>\n",
       "  <th>Df Model:</th>              <td>     1</td>      <th>                     </th>     <td> </td>   \n",
       "</tr>\n",
       "<tr>\n",
       "  <th>Covariance Type:</th>      <td>nonrobust</td>    <th>                     </th>     <td> </td>   \n",
       "</tr>\n",
       "</table>\n",
       "<table class=\"simpletable\">\n",
       "<tr>\n",
       "      <td></td>         <th>coef</th>     <th>std err</th>      <th>t</th>      <th>P>|t|</th>  <th>[0.025</th>    <th>0.975]</th>  \n",
       "</tr>\n",
       "<tr>\n",
       "  <th>Intercept</th> <td>    1.0956</td> <td>    2.547</td> <td>    0.430</td> <td> 0.668</td> <td>   -3.958</td> <td>    6.149</td>\n",
       "</tr>\n",
       "<tr>\n",
       "  <th>x</th>         <td>    4.7774</td> <td>    0.432</td> <td>   11.062</td> <td> 0.000</td> <td>    3.920</td> <td>    5.634</td>\n",
       "</tr>\n",
       "</table>\n",
       "<table class=\"simpletable\">\n",
       "<tr>\n",
       "  <th>Omnibus:</th>       <td> 0.254</td> <th>  Durbin-Watson:     </th> <td>   2.043</td>\n",
       "</tr>\n",
       "<tr>\n",
       "  <th>Prob(Omnibus):</th> <td> 0.881</td> <th>  Jarque-Bera (JB):  </th> <td>   0.079</td>\n",
       "</tr>\n",
       "<tr>\n",
       "  <th>Skew:</th>          <td>-0.065</td> <th>  Prob(JB):          </th> <td>   0.961</td>\n",
       "</tr>\n",
       "<tr>\n",
       "  <th>Kurtosis:</th>      <td> 3.045</td> <th>  Cond. No.          </th> <td>    14.7</td>\n",
       "</tr>\n",
       "</table><br/><br/>Warnings:<br/>[1] Standard Errors assume that the covariance matrix of the errors is correctly specified."
      ],
      "text/plain": [
       "<class 'statsmodels.iolib.summary.Summary'>\n",
       "\"\"\"\n",
       "                            OLS Regression Results                            \n",
       "==============================================================================\n",
       "Dep. Variable:                      y   R-squared:                       0.555\n",
       "Model:                            OLS   Adj. R-squared:                  0.551\n",
       "Method:                 Least Squares   F-statistic:                     122.4\n",
       "Date:                Sat, 14 Mar 2020   Prob (F-statistic):           6.11e-19\n",
       "Time:                        11:35:49   Log-Likelihood:                -375.73\n",
       "No. Observations:                 100   AIC:                             755.5\n",
       "Df Residuals:                      98   BIC:                             760.7\n",
       "Df Model:                           1                                         \n",
       "Covariance Type:            nonrobust                                         \n",
       "==============================================================================\n",
       "                 coef    std err          t      P>|t|      [0.025      0.975]\n",
       "------------------------------------------------------------------------------\n",
       "Intercept      1.0956      2.547      0.430      0.668      -3.958       6.149\n",
       "x              4.7774      0.432     11.062      0.000       3.920       5.634\n",
       "==============================================================================\n",
       "Omnibus:                        0.254   Durbin-Watson:                   2.043\n",
       "Prob(Omnibus):                  0.881   Jarque-Bera (JB):                0.079\n",
       "Skew:                          -0.065   Prob(JB):                        0.961\n",
       "Kurtosis:                       3.045   Cond. No.                         14.7\n",
       "==============================================================================\n",
       "\n",
       "Warnings:\n",
       "[1] Standard Errors assume that the covariance matrix of the errors is correctly specified.\n",
       "\"\"\""
      ]
     },
     "execution_count": 17,
     "metadata": {},
     "output_type": "execute_result"
    }
   ],
   "source": [
    "#Create the model\n",
    "model_2 = sm.ols('y~x', data=set_2).fit()\n",
    "model_2.summary()"
   ]
  },
  {
   "cell_type": "code",
   "execution_count": 18,
   "metadata": {},
   "outputs": [],
   "source": [
    "#Unlike set 1, we observe a much lower R^2, indicating that the model explains much less variation than in set 1. This should\n",
    "#not be surprising, as the plot hinted at a weaker relationship between x and y"
   ]
  },
  {
   "cell_type": "code",
   "execution_count": 19,
   "metadata": {},
   "outputs": [
    {
     "data": {
      "image/png": "[encoded data removed]",
      "text/plain": [
       "<Figure size 432x288 with 1 Axes>"
      ]
     },
     "metadata": {
      "needs_background": "light"
     },
     "output_type": "display_data"
    }
   ],
   "source": [
    "#Evaluating OLS assumptions for set 2 (simple linear regression)\n",
    "\n",
    "#In evaluating the regression assumptions, it will be helpful to add our predicted values to the set_2 df\n",
    "intercept, slope=model_2.params\n",
    "set_2['y_est'] = intercept + slope * set_2.x\n",
    "set_2\n",
    "\n",
    "#Assumption 1 - Linearity\n",
    "\n",
    "#Based on the scatter plot created above for set 2, we can confirm that X and Y are linearly related, meaning that this \n",
    "#assumption is satisfied (plot reproduced below for convenience)\n",
    "plt.plot(set_2.x, set_2.y, 'or')\n",
    "plt.xlabel('x')\n",
    "plt.ylabel('y')\n",
    "plt.title('Set 2')\n",
    "plt.show()"
   ]
  },
  {
   "cell_type": "code",
   "execution_count": 88,
   "metadata": {},
   "outputs": [
    {
     "data": {
      "image/png": "[encoded data removed]",
      "text/plain": [
       "<Figure size 432x288 with 1 Axes>"
      ]
     },
     "metadata": {
      "needs_background": "light"
     },
     "output_type": "display_data"
    }
   ],
   "source": [
    "#Assumption 2 - Normality of Error Terms\n",
    "\n",
    "#As before, we make use of the pylab package.\n",
    "stats.probplot(set_2.y-set_2.y_est, dist=\"norm\", plot=pylab) #Residuals=y_observed-y_est \n",
    "pylab.title('QQ Plot: Test Residuals') \n",
    "pylab.show()"
   ]
  },
  {
   "cell_type": "code",
   "execution_count": 21,
   "metadata": {},
   "outputs": [],
   "source": [
    "#As can be seen above, the plot of observed values vs. theoretical quantities meanders slightly from the red line in a\n",
    "#wavelike manner. This leads me to believe that assumption 2 has been violated for this model."
   ]
  },
  {
   "cell_type": "code",
   "execution_count": 22,
   "metadata": {},
   "outputs": [
    {
     "data": {
      "image/png": "[encoded data removed]",
      "text/plain": [
       "<Figure size 432x288 with 1 Axes>"
      ]
     },
     "metadata": {
      "needs_background": "light"
     },
     "output_type": "display_data"
    }
   ],
   "source": [
    "#Assumption 3 - Homeoskedascticity (Equal Variance in Error Terms)\n",
    "\n",
    "#By plotting residuals vs predicted values of y, we can determine if variance increases (or decreases) as y_est increases\n",
    "plt.plot(set_2.y_est, set_2.y-set_2.y_est,'or')\n",
    "plt.xlabel('Predicted y')\n",
    "plt.ylabel('Residuals')\n",
    "plt.title('Predicted vs Residuals')\n",
    "plt.tick_params(axis='x')\n",
    "plt.tick_params(axis='y')"
   ]
  },
  {
   "cell_type": "code",
   "execution_count": 23,
   "metadata": {},
   "outputs": [],
   "source": [
    "#There does not appear to be any obvious trend in this cluster of points, so I'm confident that the third assumption holds\n",
    "#for set 2"
   ]
  },
  {
   "cell_type": "code",
   "execution_count": 25,
   "metadata": {},
   "outputs": [
    {
     "data": {
      "image/png": "[encoded data removed]",
      "text/plain": [
       "<Figure size 432x288 with 1 Axes>"
      ]
     },
     "metadata": {
      "needs_background": "light"
     },
     "output_type": "display_data"
    }
   ],
   "source": [
    "#The final piece of the puzzle for dataset 2 is to identify any potential outliers. By inspection, we see that this dataset\n",
    "#does not contain outliers.\n",
    "plt.plot(set_2.x, set_2.y, \"or\")\n",
    "plt.xlabel(\"x\")\n",
    "plt.ylabel(\"y\")\n",
    "plt.title(\"Set 2 - Outlier Check\")\n",
    "plt.show()"
   ]
  },
  {
   "cell_type": "code",
   "execution_count": 26,
   "metadata": {},
   "outputs": [],
   "source": [
    "#There are no obvious outliers in this dataset. While these points are clearly more dispersed than those in set 1, none of\n",
    "#them are sufficiently far away from any other to be classified as an outlier by inspection."
   ]
  },
  {
   "cell_type": "code",
   "execution_count": 229,
   "metadata": {},
   "outputs": [
    {
     "name": "stdout",
     "output_type": "stream",
     "text": [
      "The intercept for this model can be interpreted as the value of the resposne (Y) when the random variable X equals 0.\n",
      "The slope of this model can be interpreted as the increase in the reponse (Y) for a unit increase of the RV X.\n",
      "In comparison to the model for dataset 1, this model performs poorly, as evidenced by the lower R^2.\n",
      "\n",
      "           Only Model\n",
      "Intercept      1.0956\n",
      "Slope          4.7774\n",
      "R-Square       0.5550\n",
      "NOBS         100.0000\n"
     ]
    }
   ],
   "source": [
    "#To summarize the key information regarding dataset 2, I'll create a dataframe with some key model parameters\n",
    "summary_2 = pd.DataFrame({\"Only Model\": [1.0956, 4.7774, 0.555, 100]}, \n",
    "                          index=['Intercept', 'Slope', 'R-Square', 'NOBS'])\n",
    "\n",
    "#Interpretation of Intercept and Slope\n",
    "print(\"The intercept for this model can be interpreted as the value of the resposne (Y) when the random variable X equals 0.\")\n",
    "print(\"The slope of this model can be interpreted as the increase in the reponse (Y) for a unit increase of the RV X.\")\n",
    "print(\"In comparison to the model for dataset 1, this model performs poorly, as evidenced by the lower R^2.\")\n",
    "print(\"\")\n",
    "print(summary_2)"
   ]
  },
  {
   "cell_type": "code",
   "execution_count": 45,
   "metadata": {},
   "outputs": [
    {
     "data": {
      "image/png": "[encoded data removed]",
      "text/plain": [
       "<Figure size 432x288 with 1 Axes>"
      ]
     },
     "metadata": {
      "needs_background": "light"
     },
     "output_type": "display_data"
    }
   ],
   "source": [
    "#Dataset 3\n",
    "\n",
    "#Import set 3\n",
    "set_3 = pd.read_csv(\"Set_3.csv\")\n",
    "\n",
    "#Plot set 3 to determine whether a transformation is required\n",
    "plt.plot(set_3.x, set_3.y, 'go')\n",
    "plt.xlabel('x')\n",
    "plt.ylabel('y')\n",
    "plt.title('Set 3')\n",
    "plt.show()"
   ]
  },
  {
   "cell_type": "code",
   "execution_count": 28,
   "metadata": {},
   "outputs": [
    {
     "data": {
      "text/html": [
       "<div>\n",
       "<style scoped>\n",
       "    .dataframe tbody tr th:only-of-type {\n",
       "        vertical-align: middle;\n",
       "    }\n",
       "\n",
       "    .dataframe tbody tr th {\n",
       "        vertical-align: top;\n",
       "    }\n",
       "\n",
       "    .dataframe thead th {\n",
       "        text-align: right;\n",
       "    }\n",
       "</style>\n",
       "<table border=\"1\" class=\"dataframe\">\n",
       "  <thead>\n",
       "    <tr style=\"text-align: right;\">\n",
       "      <th></th>\n",
       "      <th>y</th>\n",
       "      <th>x</th>\n",
       "    </tr>\n",
       "  </thead>\n",
       "  <tbody>\n",
       "    <tr>\n",
       "      <td>0</td>\n",
       "      <td>6428.915770</td>\n",
       "      <td>9.517</td>\n",
       "    </tr>\n",
       "    <tr>\n",
       "      <td>1</td>\n",
       "      <td>2640.000728</td>\n",
       "      <td>5.113</td>\n",
       "    </tr>\n",
       "    <tr>\n",
       "      <td>2</td>\n",
       "      <td>12858.599270</td>\n",
       "      <td>9.773</td>\n",
       "    </tr>\n",
       "    <tr>\n",
       "      <td>3</td>\n",
       "      <td>5491.450053</td>\n",
       "      <td>8.428</td>\n",
       "    </tr>\n",
       "    <tr>\n",
       "      <td>4</td>\n",
       "      <td>2838.820108</td>\n",
       "      <td>5.752</td>\n",
       "    </tr>\n",
       "    <tr>\n",
       "      <td>...</td>\n",
       "      <td>...</td>\n",
       "      <td>...</td>\n",
       "    </tr>\n",
       "    <tr>\n",
       "      <td>95</td>\n",
       "      <td>5242.604150</td>\n",
       "      <td>8.091</td>\n",
       "    </tr>\n",
       "    <tr>\n",
       "      <td>96</td>\n",
       "      <td>159.666278</td>\n",
       "      <td>1.325</td>\n",
       "    </tr>\n",
       "    <tr>\n",
       "      <td>97</td>\n",
       "      <td>2087.069663</td>\n",
       "      <td>4.446</td>\n",
       "    </tr>\n",
       "    <tr>\n",
       "      <td>98</td>\n",
       "      <td>206.866151</td>\n",
       "      <td>1.335</td>\n",
       "    </tr>\n",
       "    <tr>\n",
       "      <td>99</td>\n",
       "      <td>2773.134726</td>\n",
       "      <td>4.587</td>\n",
       "    </tr>\n",
       "  </tbody>\n",
       "</table>\n",
       "<p>100 rows × 2 columns</p>\n",
       "</div>"
      ],
      "text/plain": [
       "               y      x\n",
       "0    6428.915770  9.517\n",
       "1    2640.000728  5.113\n",
       "2   12858.599270  9.773\n",
       "3    5491.450053  8.428\n",
       "4    2838.820108  5.752\n",
       "..           ...    ...\n",
       "95   5242.604150  8.091\n",
       "96    159.666278  1.325\n",
       "97   2087.069663  4.446\n",
       "98    206.866151  1.335\n",
       "99   2773.134726  4.587\n",
       "\n",
       "[100 rows x 2 columns]"
      ]
     },
     "execution_count": 28,
     "metadata": {},
     "output_type": "execute_result"
    }
   ],
   "source": [
    "set_3"
   ]
  },
  {
   "cell_type": "code",
   "execution_count": 29,
   "metadata": {},
   "outputs": [
    {
     "data": {
      "image/png": "[encoded data removed]",
      "text/plain": [
       "<Figure size 432x288 with 1 Axes>"
      ]
     },
     "metadata": {
      "needs_background": "light"
     },
     "output_type": "display_data"
    }
   ],
   "source": [
    "#Immediately, the plot above resembles one-half of the y=x^2 function, so in its current form, it's not suitable for the base\n",
    "#of a regression model.\n",
    "\n",
    "#To circumvent this issue, I will try a square root transformation:\n",
    "set_3['sq_y']=set_3['y']**1/2\n",
    "set_3['sq_x']=set_3['x']**1/2\n",
    "set_3\n",
    "\n",
    "#Reuse plot code from above, but with sqrt(x) and sqrt(y)\n",
    "plt.plot(set_3.sq_x, set_3.sq_y, 'go')\n",
    "plt.xlabel('sq_x')\n",
    "plt.ylabel('sq_y)')\n",
    "plt.title('Set 3')\n",
    "plt.show()"
   ]
  },
  {
   "cell_type": "code",
   "execution_count": 96,
   "metadata": {},
   "outputs": [
    {
     "data": {
      "image/png": "[encoded data removed]",
      "text/plain": [
       "<Figure size 432x288 with 1 Axes>"
      ]
     },
     "metadata": {
      "needs_background": "light"
     },
     "output_type": "display_data"
    }
   ],
   "source": [
    "#Unfortunately, this still looks rather suspect, so let's try a log transform instead\n",
    "set_3['log_y']=np.log(set_3['y'])\n",
    "set_3['log_x']=np.log(set_3['x'])\n",
    "set_3\n",
    "\n",
    "#Reuse plot code from above, but with log(x) and log(y)\n",
    "plt.plot(set_3.log_x, set_3.log_y, 'go')\n",
    "plt.xlabel('log_x')\n",
    "plt.ylabel('log_y')\n",
    "plt.title('Set 3')\n",
    "plt.show()"
   ]
  },
  {
   "cell_type": "code",
   "execution_count": 31,
   "metadata": {},
   "outputs": [
    {
     "data": {
      "text/html": [
       "<table class=\"simpletable\">\n",
       "<caption>OLS Regression Results</caption>\n",
       "<tr>\n",
       "  <th>Dep. Variable:</th>            <td>y</td>        <th>  R-squared:         </th> <td>   0.755</td>\n",
       "</tr>\n",
       "<tr>\n",
       "  <th>Model:</th>                   <td>OLS</td>       <th>  Adj. R-squared:    </th> <td>   0.753</td>\n",
       "</tr>\n",
       "<tr>\n",
       "  <th>Method:</th>             <td>Least Squares</td>  <th>  F-statistic:       </th> <td>   302.4</td>\n",
       "</tr>\n",
       "<tr>\n",
       "  <th>Date:</th>             <td>Sat, 14 Mar 2020</td> <th>  Prob (F-statistic):</th> <td>1.04e-31</td>\n",
       "</tr>\n",
       "<tr>\n",
       "  <th>Time:</th>                 <td>11:35:52</td>     <th>  Log-Likelihood:    </th> <td> -873.07</td>\n",
       "</tr>\n",
       "<tr>\n",
       "  <th>No. Observations:</th>      <td>   100</td>      <th>  AIC:               </th> <td>   1750.</td>\n",
       "</tr>\n",
       "<tr>\n",
       "  <th>Df Residuals:</th>          <td>    98</td>      <th>  BIC:               </th> <td>   1755.</td>\n",
       "</tr>\n",
       "<tr>\n",
       "  <th>Df Model:</th>              <td>     1</td>      <th>                     </th>     <td> </td>   \n",
       "</tr>\n",
       "<tr>\n",
       "  <th>Covariance Type:</th>      <td>nonrobust</td>    <th>                     </th>     <td> </td>   \n",
       "</tr>\n",
       "</table>\n",
       "<table class=\"simpletable\">\n",
       "<tr>\n",
       "      <td></td>         <th>coef</th>     <th>std err</th>      <th>t</th>      <th>P>|t|</th>  <th>[0.025</th>    <th>0.975]</th>  \n",
       "</tr>\n",
       "<tr>\n",
       "  <th>Intercept</th> <td>-2636.1748</td> <td>  402.741</td> <td>   -6.546</td> <td> 0.000</td> <td>-3435.400</td> <td>-1836.949</td>\n",
       "</tr>\n",
       "<tr>\n",
       "  <th>x</th>         <td> 1081.8266</td> <td>   62.216</td> <td>   17.388</td> <td> 0.000</td> <td>  958.361</td> <td> 1205.292</td>\n",
       "</tr>\n",
       "</table>\n",
       "<table class=\"simpletable\">\n",
       "<tr>\n",
       "  <th>Omnibus:</th>       <td>21.170</td> <th>  Durbin-Watson:     </th> <td>   2.159</td>\n",
       "</tr>\n",
       "<tr>\n",
       "  <th>Prob(Omnibus):</th> <td> 0.000</td> <th>  Jarque-Bera (JB):  </th> <td>  37.896</td>\n",
       "</tr>\n",
       "<tr>\n",
       "  <th>Skew:</th>          <td> 0.863</td> <th>  Prob(JB):          </th> <td>5.90e-09</td>\n",
       "</tr>\n",
       "<tr>\n",
       "  <th>Kurtosis:</th>      <td> 5.474</td> <th>  Cond. No.          </th> <td>    17.6</td>\n",
       "</tr>\n",
       "</table><br/><br/>Warnings:<br/>[1] Standard Errors assume that the covariance matrix of the errors is correctly specified."
      ],
      "text/plain": [
       "<class 'statsmodels.iolib.summary.Summary'>\n",
       "\"\"\"\n",
       "                            OLS Regression Results                            \n",
       "==============================================================================\n",
       "Dep. Variable:                      y   R-squared:                       0.755\n",
       "Model:                            OLS   Adj. R-squared:                  0.753\n",
       "Method:                 Least Squares   F-statistic:                     302.4\n",
       "Date:                Sat, 14 Mar 2020   Prob (F-statistic):           1.04e-31\n",
       "Time:                        11:35:52   Log-Likelihood:                -873.07\n",
       "No. Observations:                 100   AIC:                             1750.\n",
       "Df Residuals:                      98   BIC:                             1755.\n",
       "Df Model:                           1                                         \n",
       "Covariance Type:            nonrobust                                         \n",
       "==============================================================================\n",
       "                 coef    std err          t      P>|t|      [0.025      0.975]\n",
       "------------------------------------------------------------------------------\n",
       "Intercept  -2636.1748    402.741     -6.546      0.000   -3435.400   -1836.949\n",
       "x           1081.8266     62.216     17.388      0.000     958.361    1205.292\n",
       "==============================================================================\n",
       "Omnibus:                       21.170   Durbin-Watson:                   2.159\n",
       "Prob(Omnibus):                  0.000   Jarque-Bera (JB):               37.896\n",
       "Skew:                           0.863   Prob(JB):                     5.90e-09\n",
       "Kurtosis:                       5.474   Cond. No.                         17.6\n",
       "==============================================================================\n",
       "\n",
       "Warnings:\n",
       "[1] Standard Errors assume that the covariance matrix of the errors is correctly specified.\n",
       "\"\"\""
      ]
     },
     "execution_count": 31,
     "metadata": {},
     "output_type": "execute_result"
    }
   ],
   "source": [
    "#For set 3, we will have two separate models - the regular one, and the log transformed one\n",
    "\n",
    "#Create the linear models\n",
    "model_3_orig = sm.ols('y~x', data=set_3).fit()\n",
    "model_3_orig.summary()"
   ]
  },
  {
   "cell_type": "code",
   "execution_count": 32,
   "metadata": {},
   "outputs": [
    {
     "data": {
      "text/html": [
       "<table class=\"simpletable\">\n",
       "<caption>OLS Regression Results</caption>\n",
       "<tr>\n",
       "  <th>Dep. Variable:</th>          <td>log_y</td>      <th>  R-squared:         </th> <td>   0.902</td>\n",
       "</tr>\n",
       "<tr>\n",
       "  <th>Model:</th>                   <td>OLS</td>       <th>  Adj. R-squared:    </th> <td>   0.901</td>\n",
       "</tr>\n",
       "<tr>\n",
       "  <th>Method:</th>             <td>Least Squares</td>  <th>  F-statistic:       </th> <td>   904.8</td>\n",
       "</tr>\n",
       "<tr>\n",
       "  <th>Date:</th>             <td>Sat, 14 Mar 2020</td> <th>  Prob (F-statistic):</th> <td>2.74e-51</td>\n",
       "</tr>\n",
       "<tr>\n",
       "  <th>Time:</th>                 <td>11:35:52</td>     <th>  Log-Likelihood:    </th> <td> -40.302</td>\n",
       "</tr>\n",
       "<tr>\n",
       "  <th>No. Observations:</th>      <td>   100</td>      <th>  AIC:               </th> <td>   84.60</td>\n",
       "</tr>\n",
       "<tr>\n",
       "  <th>Df Residuals:</th>          <td>    98</td>      <th>  BIC:               </th> <td>   89.81</td>\n",
       "</tr>\n",
       "<tr>\n",
       "  <th>Df Model:</th>              <td>     1</td>      <th>                     </th>     <td> </td>   \n",
       "</tr>\n",
       "<tr>\n",
       "  <th>Covariance Type:</th>      <td>nonrobust</td>    <th>                     </th>     <td> </td>   \n",
       "</tr>\n",
       "</table>\n",
       "<table class=\"simpletable\">\n",
       "<tr>\n",
       "      <td></td>         <th>coef</th>     <th>std err</th>      <th>t</th>      <th>P>|t|</th>  <th>[0.025</th>    <th>0.975]</th>  \n",
       "</tr>\n",
       "<tr>\n",
       "  <th>Intercept</th> <td>    4.3508</td> <td>    0.120</td> <td>   36.221</td> <td> 0.000</td> <td>    4.112</td> <td>    4.589</td>\n",
       "</tr>\n",
       "<tr>\n",
       "  <th>log_x</th>     <td>    2.0535</td> <td>    0.068</td> <td>   30.079</td> <td> 0.000</td> <td>    1.918</td> <td>    2.189</td>\n",
       "</tr>\n",
       "</table>\n",
       "<table class=\"simpletable\">\n",
       "<tr>\n",
       "  <th>Omnibus:</th>       <td>27.640</td> <th>  Durbin-Watson:     </th> <td>   1.760</td>\n",
       "</tr>\n",
       "<tr>\n",
       "  <th>Prob(Omnibus):</th> <td> 0.000</td> <th>  Jarque-Bera (JB):  </th> <td>  50.511</td>\n",
       "</tr>\n",
       "<tr>\n",
       "  <th>Skew:</th>          <td>-1.126</td> <th>  Prob(JB):          </th> <td>1.08e-11</td>\n",
       "</tr>\n",
       "<tr>\n",
       "  <th>Kurtosis:</th>      <td> 5.656</td> <th>  Cond. No.          </th> <td>    7.51</td>\n",
       "</tr>\n",
       "</table><br/><br/>Warnings:<br/>[1] Standard Errors assume that the covariance matrix of the errors is correctly specified."
      ],
      "text/plain": [
       "<class 'statsmodels.iolib.summary.Summary'>\n",
       "\"\"\"\n",
       "                            OLS Regression Results                            \n",
       "==============================================================================\n",
       "Dep. Variable:                  log_y   R-squared:                       0.902\n",
       "Model:                            OLS   Adj. R-squared:                  0.901\n",
       "Method:                 Least Squares   F-statistic:                     904.8\n",
       "Date:                Sat, 14 Mar 2020   Prob (F-statistic):           2.74e-51\n",
       "Time:                        11:35:52   Log-Likelihood:                -40.302\n",
       "No. Observations:                 100   AIC:                             84.60\n",
       "Df Residuals:                      98   BIC:                             89.81\n",
       "Df Model:                           1                                         \n",
       "Covariance Type:            nonrobust                                         \n",
       "==============================================================================\n",
       "                 coef    std err          t      P>|t|      [0.025      0.975]\n",
       "------------------------------------------------------------------------------\n",
       "Intercept      4.3508      0.120     36.221      0.000       4.112       4.589\n",
       "log_x          2.0535      0.068     30.079      0.000       1.918       2.189\n",
       "==============================================================================\n",
       "Omnibus:                       27.640   Durbin-Watson:                   1.760\n",
       "Prob(Omnibus):                  0.000   Jarque-Bera (JB):               50.511\n",
       "Skew:                          -1.126   Prob(JB):                     1.08e-11\n",
       "Kurtosis:                       5.656   Cond. No.                         7.51\n",
       "==============================================================================\n",
       "\n",
       "Warnings:\n",
       "[1] Standard Errors assume that the covariance matrix of the errors is correctly specified.\n",
       "\"\"\""
      ]
     },
     "execution_count": 32,
     "metadata": {},
     "output_type": "execute_result"
    }
   ],
   "source": [
    "#Log model\n",
    "model_3_log = sm.ols('log_y~log_x', data=set_3).fit()\n",
    "model_3_log.summary()"
   ]
  },
  {
   "cell_type": "code",
   "execution_count": 33,
   "metadata": {},
   "outputs": [],
   "source": [
    "#It's interesting to note that the R^2 of the log-transformed model is roughly 0.15 higher than the original model. For both\n",
    "#models, the predictor and intercept are statistically significant.\n",
    "\n",
    "#The greater predictive power of the transformed model leads me to believe that it adhered more closely to OLS assumptions."
   ]
  },
  {
   "cell_type": "code",
   "execution_count": 90,
   "metadata": {},
   "outputs": [
    {
     "data": {
      "image/png": "[encoded data removed]",
      "text/plain": [
       "<Figure size 432x288 with 1 Axes>"
      ]
     },
     "metadata": {
      "needs_background": "light"
     },
     "output_type": "display_data"
    }
   ],
   "source": [
    "#Testing OLS Assumptions - Original (untransformed) Model\n",
    "\n",
    "#In evaluating the regression assumptions, it will be helpful to add our predicted values to the set_3 df\n",
    "intercept, slope=model_3_orig.params\n",
    "set_3['y_est'] = intercept + slope * set_3.x\n",
    "set_3\n",
    "\n",
    "#Assumption 1 - Linearity\n",
    "\n",
    "#Based on the scatter plot created above, we can confirm that X and Y are NOT linearly related, meaning that this assumption is\n",
    "#NOT satisfied (plot reproduced below for convenience)\n",
    "plt.plot(set_3.x, set_3.y, 'go')\n",
    "plt.xlabel('x')\n",
    "plt.ylabel('y')\n",
    "plt.title('Set 3')\n",
    "plt.show()"
   ]
  },
  {
   "cell_type": "code",
   "execution_count": 91,
   "metadata": {},
   "outputs": [
    {
     "data": {
      "image/png": "[encoded data removed]",
      "text/plain": [
       "<Figure size 432x288 with 1 Axes>"
      ]
     },
     "metadata": {
      "needs_background": "light"
     },
     "output_type": "display_data"
    }
   ],
   "source": [
    "#Assumption 2 - Normality of Error Terms\n",
    "\n",
    "#Normality test with pylab\n",
    "stats.probplot(set_3.y-set_3.y_est, dist=\"norm\", plot=pylab) #Residuals=y_observed-y_est \n",
    "pylab.title('QQ Plot: Test Residuals') \n",
    "pylab.show()"
   ]
  },
  {
   "cell_type": "code",
   "execution_count": 36,
   "metadata": {},
   "outputs": [],
   "source": [
    "#The original model actually exhibits strong normality of error terms. At the extremes, there are a few points that deviate\n",
    "#from the normal red line, but the linear trend is clear."
   ]
  },
  {
   "cell_type": "code",
   "execution_count": 37,
   "metadata": {},
   "outputs": [
    {
     "data": {
      "image/png": "[encoded data removed]",
      "text/plain": [
       "<Figure size 432x288 with 1 Axes>"
      ]
     },
     "metadata": {
      "needs_background": "light"
     },
     "output_type": "display_data"
    }
   ],
   "source": [
    "#Assumption 3 - Homeoskedascticity (Equal Variance in Error Terms)\n",
    "\n",
    "#By plotting residuals vs predicted values of y, we can determine if variance increases (or decreases) as y_est increases\n",
    "plt.plot(set_3.y_est, set_3.y-set_3.y_est,'og')\n",
    "plt.xlabel('Predicted y')\n",
    "plt.ylabel('Residuals')\n",
    "plt.title('Predicted vs Residuals')\n",
    "plt.tick_params(axis='x')\n",
    "plt.tick_params(axis='y')"
   ]
  },
  {
   "cell_type": "code",
   "execution_count": 38,
   "metadata": {},
   "outputs": [],
   "source": [
    "#For values of y_est from 0 to 2,000, we see that variance in the residuals decreases linearly. However, for values in excess\n",
    "#of 2,000, variance becomes a little more stable, but might exhibit a slight upward trend. Either way, this is a clear violation\n",
    "#of the homeoskedasticity assumption, as the plot contains obvious patterns."
   ]
  },
  {
   "cell_type": "code",
   "execution_count": 94,
   "metadata": {},
   "outputs": [
    {
     "data": {
      "image/png": "[encoded data removed]",
      "text/plain": [
       "<Figure size 432x288 with 1 Axes>"
      ]
     },
     "metadata": {
      "needs_background": "light"
     },
     "output_type": "display_data"
    },
    {
     "data": {
      "text/html": [
       "<div>\n",
       "<style scoped>\n",
       "    .dataframe tbody tr th:only-of-type {\n",
       "        vertical-align: middle;\n",
       "    }\n",
       "\n",
       "    .dataframe tbody tr th {\n",
       "        vertical-align: top;\n",
       "    }\n",
       "\n",
       "    .dataframe thead th {\n",
       "        text-align: right;\n",
       "    }\n",
       "</style>\n",
       "<table border=\"1\" class=\"dataframe\">\n",
       "  <thead>\n",
       "    <tr style=\"text-align: right;\">\n",
       "      <th></th>\n",
       "      <th>y</th>\n",
       "      <th>x</th>\n",
       "      <th>y_est</th>\n",
       "      <th>y_est_log</th>\n",
       "    </tr>\n",
       "  </thead>\n",
       "  <tbody>\n",
       "    <tr>\n",
       "      <td>0</td>\n",
       "      <td>6428.915770</td>\n",
       "      <td>9.517</td>\n",
       "      <td>7659.568829</td>\n",
       "      <td>23.893925</td>\n",
       "    </tr>\n",
       "    <tr>\n",
       "      <td>1</td>\n",
       "      <td>2640.000728</td>\n",
       "      <td>5.113</td>\n",
       "      <td>2895.204522</td>\n",
       "      <td>14.850342</td>\n",
       "    </tr>\n",
       "    <tr>\n",
       "      <td>2</td>\n",
       "      <td>12858.599270</td>\n",
       "      <td>9.773</td>\n",
       "      <td>7936.516437</td>\n",
       "      <td>24.419619</td>\n",
       "    </tr>\n",
       "    <tr>\n",
       "      <td>3</td>\n",
       "      <td>5491.450053</td>\n",
       "      <td>8.428</td>\n",
       "      <td>6481.459672</td>\n",
       "      <td>21.657671</td>\n",
       "    </tr>\n",
       "    <tr>\n",
       "      <td>4</td>\n",
       "      <td>2838.820108</td>\n",
       "      <td>5.752</td>\n",
       "      <td>3586.491713</td>\n",
       "      <td>16.162524</td>\n",
       "    </tr>\n",
       "    <tr>\n",
       "      <td>...</td>\n",
       "      <td>...</td>\n",
       "      <td>...</td>\n",
       "      <td>...</td>\n",
       "      <td>...</td>\n",
       "    </tr>\n",
       "    <tr>\n",
       "      <td>95</td>\n",
       "      <td>5242.604150</td>\n",
       "      <td>8.091</td>\n",
       "      <td>6116.884110</td>\n",
       "      <td>20.965644</td>\n",
       "    </tr>\n",
       "    <tr>\n",
       "      <td>96</td>\n",
       "      <td>159.666278</td>\n",
       "      <td>1.325</td>\n",
       "      <td>-1202.754606</td>\n",
       "      <td>7.071711</td>\n",
       "    </tr>\n",
       "    <tr>\n",
       "      <td>97</td>\n",
       "      <td>2087.069663</td>\n",
       "      <td>4.446</td>\n",
       "      <td>2173.626185</td>\n",
       "      <td>13.480662</td>\n",
       "    </tr>\n",
       "    <tr>\n",
       "      <td>98</td>\n",
       "      <td>206.866151</td>\n",
       "      <td>1.335</td>\n",
       "      <td>-1191.936340</td>\n",
       "      <td>7.092245</td>\n",
       "    </tr>\n",
       "    <tr>\n",
       "      <td>99</td>\n",
       "      <td>2773.134726</td>\n",
       "      <td>4.587</td>\n",
       "      <td>2326.163735</td>\n",
       "      <td>13.770205</td>\n",
       "    </tr>\n",
       "  </tbody>\n",
       "</table>\n",
       "<p>100 rows × 4 columns</p>\n",
       "</div>"
      ],
      "text/plain": [
       "               y      x        y_est  y_est_log\n",
       "0    6428.915770  9.517  7659.568829  23.893925\n",
       "1    2640.000728  5.113  2895.204522  14.850342\n",
       "2   12858.599270  9.773  7936.516437  24.419619\n",
       "3    5491.450053  8.428  6481.459672  21.657671\n",
       "4    2838.820108  5.752  3586.491713  16.162524\n",
       "..           ...    ...          ...        ...\n",
       "95   5242.604150  8.091  6116.884110  20.965644\n",
       "96    159.666278  1.325 -1202.754606   7.071711\n",
       "97   2087.069663  4.446  2173.626185  13.480662\n",
       "98    206.866151  1.335 -1191.936340   7.092245\n",
       "99   2773.134726  4.587  2326.163735  13.770205\n",
       "\n",
       "[100 rows x 4 columns]"
      ]
     },
     "execution_count": 94,
     "metadata": {},
     "output_type": "execute_result"
    }
   ],
   "source": [
    "#The final piece of the puzzle for dataset 3 is to identify any potential outliers. By inspection, we could make a case\n",
    "#for two potential outliers (top right corner). But, considering we have transformed this dataset anyways, there is no sense\n",
    "#in pursuing these outliers further, as they disappear after the transformation.\n",
    "plt.plot(set_3.x, set_3.y, \"og\")\n",
    "plt.xlabel(\"x\")\n",
    "plt.ylabel(\"y\")\n",
    "plt.title(\"Set 3 - Outlier Check\")\n",
    "plt.show()\n",
    "\n",
    "set_3"
   ]
  },
  {
   "cell_type": "code",
   "execution_count": 236,
   "metadata": {},
   "outputs": [
    {
     "data": {
      "image/png": "[encoded data removed]",
      "text/plain": [
       "<Figure size 432x288 with 1 Axes>"
      ]
     },
     "metadata": {
      "needs_background": "light"
     },
     "output_type": "display_data"
    }
   ],
   "source": [
    "#Testing OLS Assumptions - Transformed Model\n",
    "\n",
    "#In evaluating the regression assumptions, it will be helpful to add our predicted values to the set_3 df\n",
    "intercept, slope=model_3_log.params\n",
    "set_3['y_est_log'] = intercept + slope * set_3.x\n",
    "set_3\n",
    "\n",
    "#Assumption 1 - Linearity\n",
    "\n",
    "#Based on the scatter plot created above, we can confirm that X and Y are now linearly related after performing the transform,\n",
    "#which satisfies assumption 1\n",
    "plt.plot(set_3.log_x, set_3.log_y, 'go')\n",
    "plt.xlabel('log(x)')\n",
    "plt.ylabel('log(y)')\n",
    "plt.title('Set 3')\n",
    "plt.show()"
   ]
  },
  {
   "cell_type": "code",
   "execution_count": 100,
   "metadata": {},
   "outputs": [
    {
     "data": {
      "image/png": "[encoded data removed]",
      "text/plain": [
       "<Figure size 432x288 with 1 Axes>"
      ]
     },
     "metadata": {
      "needs_background": "light"
     },
     "output_type": "display_data"
    }
   ],
   "source": [
    "#Assumption 2 - Normality of Error Terms\n",
    "\n",
    "#Normality test with pylab \n",
    "stats.probplot(set_3.y-set_3.y_est_log, dist=\"norm\", plot=pylab) #Residuals=y_observed-y_est \n",
    "pylab.title('QQ Plot: Test Residuals') \n",
    "pylab.show()"
   ]
  },
  {
   "cell_type": "code",
   "execution_count": null,
   "metadata": {},
   "outputs": [],
   "source": [
    "#Based on the QQ plot, it is evident that the transformed model violates the noramlity of errors assumption, as the points\n",
    "#are not distributed consistenyl along the red line."
   ]
  },
  {
   "cell_type": "code",
   "execution_count": 101,
   "metadata": {},
   "outputs": [
    {
     "data": {
      "image/png": "[encoded data removed]",
      "text/plain": [
       "<Figure size 432x288 with 1 Axes>"
      ]
     },
     "metadata": {
      "needs_background": "light"
     },
     "output_type": "display_data"
    }
   ],
   "source": [
    "#Assumption 3 - Homeoskedascticity (Equal Variance in Error Terms)\n",
    "\n",
    "#By plotting residuals vs predicted values of y, we can determine if variance increases (or decreases) as y_est increases\n",
    "plt.plot(set_3.y_est_log, set_3.y-set_3.y_est_log,'og')\n",
    "plt.xlabel('Predicted y')\n",
    "plt.ylabel('Residuals')\n",
    "plt.title('Predicted vs Residuals')\n",
    "plt.tick_params(axis='x')\n",
    "plt.tick_params(axis='y')"
   ]
  },
  {
   "cell_type": "code",
   "execution_count": null,
   "metadata": {},
   "outputs": [],
   "source": [
    "#The transformed model also violates the homeoskedasticity assumption, as variance in residuals increases as predicted values\n",
    "#increase."
   ]
  },
  {
   "cell_type": "code",
   "execution_count": 233,
   "metadata": {},
   "outputs": [
    {
     "name": "stdout",
     "output_type": "stream",
     "text": [
      "The intercept for the original model can be interpreted as the value of the resposne (Y) when the random variable X equals 0.\n",
      "The intercept of the log-transformed model can be interpreted as the value of the response (log(Y)) when the value of the regressor (log(X)) equals 0. Because we've applied the log transform to both sides of the model's equation, the same relationship holds true for X and Y themselves.\n",
      "\n",
      "The slope of the original model can be interpreted as the increase in the reponse (Y) for a unit increase of the RV X.\n",
      "The slope of the log-transformed model can be interpreted as the increase in the reponse (log(Y)) for a unit increase of the RV log(X). As discussed above with the intercept, since the transform was applied to both variables, the same relationship holds true for X and Y themselves.\n",
      "\n",
      "Due to the improved performance of the transformed model (as evidenced by the higher R^2), we can be confident that the transformed model adheres more closely to OLS assumptions.\n",
      "\n",
      "           Original Model  Log-Transformed\n",
      "Intercept      -2636.1748           4.3508\n",
      "Slope           1081.8266           2.0535\n",
      "R-Square           0.7550           0.9020\n",
      "NOBS             100.0000         100.0000\n"
     ]
    }
   ],
   "source": [
    "#Summary of Dataset 3\n",
    "\n",
    "#To summarize the key information regarding dataset 3, I'll create a dataframe with some key model parameters\n",
    "summary_3 = pd.DataFrame({\"Original Model\": [-2636.1748, 1081.8266, 0.755, 100], \"Log-Transformed\": [4.3508, 2.0535, 0.902, 100]}, \n",
    "                          index=['Intercept', 'Slope', 'R-Square', 'NOBS'])\n",
    "\n",
    "#Interpretation of Intercept and Slope\n",
    "print(\"The intercept for the original model can be interpreted as the value of the resposne (Y) when the random variable X\", \n",
    "      \"equals 0.\")\n",
    "print(\"The intercept of the log-transformed model can be interpreted as the value of the response (log(Y)) when the value\",\n",
    "     \"of the regressor X equals 0. Because we've applied the log transform to both sides of the model's equation,\", \n",
    "      \"the same relationship holds true for X and Y themselves.\")\n",
    "print(\"\")\n",
    "print(\"The slope of the original model can be interpreted as the increase in the reponse (Y) for a unit increase of the RV X.\")\n",
    "print(\"The slope of the log-transformed model can be interpreted as the increase in the reponse (log(Y)) for a unit increase\",\n",
    "      \"of the RV log(X). As discussed above with the intercept, since the transform was applied to both variables, the same\",\n",
    "     \"relationship holds true for X and Y themselves.\")\n",
    "print(\"\")\n",
    "print(\"Due to the improved performance of the transformed model (as evidenced by the higher R^2), we can be confident that\",\n",
    "     \"the transformed model adheres more closely to OLS assumptions.\")\n",
    "print(\"\")\n",
    "print(summary_3)"
   ]
  },
  {
   "cell_type": "code",
   "execution_count": 52,
   "metadata": {},
   "outputs": [
    {
     "data": {
      "image/png": "[encoded data removed]",
      "text/plain": [
       "<Figure size 432x288 with 1 Axes>"
      ]
     },
     "metadata": {
      "needs_background": "light"
     },
     "output_type": "display_data"
    }
   ],
   "source": [
    "#Dataset 4\n",
    "\n",
    "#Import set 4\n",
    "set_4 = pd.read_csv(\"Set_4.csv\")\n",
    "\n",
    "#Plot set 4 to determine whether a transformation is required\n",
    "plt.plot(set_4.x, set_4.Y, 'yo')\n",
    "plt.xlabel('x')\n",
    "plt.ylabel('y')\n",
    "plt.title('Set 4')\n",
    "plt.show()"
   ]
  },
  {
   "cell_type": "code",
   "execution_count": 80,
   "metadata": {},
   "outputs": [
    {
     "data": {
      "image/png": "[encoded data removed]",
      "text/plain": [
       "<Figure size 432x288 with 1 Axes>"
      ]
     },
     "metadata": {
      "needs_background": "light"
     },
     "output_type": "display_data"
    }
   ],
   "source": [
    "#Here, there is clearly a non-linear relationship between X and Y, so let's try a few transformations to get this relationship\n",
    "#into a linear form\n",
    "\n",
    "#After trying several possible transformations, the one that worked best was transforming just Y logarithmically\n",
    "set_4['log_Y']=np.log(set_4['Y'])\n",
    "set_4\n",
    "\n",
    "#Verify that plot is now linear\n",
    "plt.plot(set_4.x, set_4.log_Y, 'yo')\n",
    "plt.xlabel('x')\n",
    "plt.ylabel('log(Y)')\n",
    "plt.title('Set 4')\n",
    "plt.show()"
   ]
  },
  {
   "cell_type": "code",
   "execution_count": 83,
   "metadata": {},
   "outputs": [
    {
     "data": {
      "text/html": [
       "<table class=\"simpletable\">\n",
       "<caption>OLS Regression Results</caption>\n",
       "<tr>\n",
       "  <th>Dep. Variable:</th>            <td>Y</td>        <th>  R-squared:         </th> <td>   0.380</td>\n",
       "</tr>\n",
       "<tr>\n",
       "  <th>Model:</th>                   <td>OLS</td>       <th>  Adj. R-squared:    </th> <td>   0.373</td>\n",
       "</tr>\n",
       "<tr>\n",
       "  <th>Method:</th>             <td>Least Squares</td>  <th>  F-statistic:       </th> <td>   59.97</td>\n",
       "</tr>\n",
       "<tr>\n",
       "  <th>Date:</th>             <td>Sat, 14 Mar 2020</td> <th>  Prob (F-statistic):</th> <td>8.87e-12</td>\n",
       "</tr>\n",
       "<tr>\n",
       "  <th>Time:</th>                 <td>12:08:42</td>     <th>  Log-Likelihood:    </th> <td> -1526.2</td>\n",
       "</tr>\n",
       "<tr>\n",
       "  <th>No. Observations:</th>      <td>   100</td>      <th>  AIC:               </th> <td>   3056.</td>\n",
       "</tr>\n",
       "<tr>\n",
       "  <th>Df Residuals:</th>          <td>    98</td>      <th>  BIC:               </th> <td>   3062.</td>\n",
       "</tr>\n",
       "<tr>\n",
       "  <th>Df Model:</th>              <td>     1</td>      <th>                     </th>     <td> </td>   \n",
       "</tr>\n",
       "<tr>\n",
       "  <th>Covariance Type:</th>      <td>nonrobust</td>    <th>                     </th>     <td> </td>   \n",
       "</tr>\n",
       "</table>\n",
       "<table class=\"simpletable\">\n",
       "<tr>\n",
       "      <td></td>         <th>coef</th>     <th>std err</th>      <th>t</th>      <th>P>|t|</th>  <th>[0.025</th>    <th>0.975]</th>  \n",
       "</tr>\n",
       "<tr>\n",
       "  <th>Intercept</th> <td>-7.535e+05</td> <td>  2.1e+05</td> <td>   -3.585</td> <td> 0.001</td> <td>-1.17e+06</td> <td>-3.36e+05</td>\n",
       "</tr>\n",
       "<tr>\n",
       "  <th>x</th>         <td> 2.707e+05</td> <td> 3.49e+04</td> <td>    7.744</td> <td> 0.000</td> <td> 2.01e+05</td> <td>  3.4e+05</td>\n",
       "</tr>\n",
       "</table>\n",
       "<table class=\"simpletable\">\n",
       "<tr>\n",
       "  <th>Omnibus:</th>       <td>102.143</td> <th>  Durbin-Watson:     </th> <td>   2.077</td> \n",
       "</tr>\n",
       "<tr>\n",
       "  <th>Prob(Omnibus):</th> <td> 0.000</td>  <th>  Jarque-Bera (JB):  </th> <td>1253.666</td> \n",
       "</tr>\n",
       "<tr>\n",
       "  <th>Skew:</th>          <td> 3.381</td>  <th>  Prob(JB):          </th> <td>5.89e-273</td>\n",
       "</tr>\n",
       "<tr>\n",
       "  <th>Kurtosis:</th>      <td>18.973</td>  <th>  Cond. No.          </th> <td>    12.4</td> \n",
       "</tr>\n",
       "</table><br/><br/>Warnings:<br/>[1] Standard Errors assume that the covariance matrix of the errors is correctly specified."
      ],
      "text/plain": [
       "<class 'statsmodels.iolib.summary.Summary'>\n",
       "\"\"\"\n",
       "                            OLS Regression Results                            \n",
       "==============================================================================\n",
       "Dep. Variable:                      Y   R-squared:                       0.380\n",
       "Model:                            OLS   Adj. R-squared:                  0.373\n",
       "Method:                 Least Squares   F-statistic:                     59.97\n",
       "Date:                Sat, 14 Mar 2020   Prob (F-statistic):           8.87e-12\n",
       "Time:                        12:08:42   Log-Likelihood:                -1526.2\n",
       "No. Observations:                 100   AIC:                             3056.\n",
       "Df Residuals:                      98   BIC:                             3062.\n",
       "Df Model:                           1                                         \n",
       "Covariance Type:            nonrobust                                         \n",
       "==============================================================================\n",
       "                 coef    std err          t      P>|t|      [0.025      0.975]\n",
       "------------------------------------------------------------------------------\n",
       "Intercept  -7.535e+05    2.1e+05     -3.585      0.001   -1.17e+06   -3.36e+05\n",
       "x           2.707e+05   3.49e+04      7.744      0.000    2.01e+05     3.4e+05\n",
       "==============================================================================\n",
       "Omnibus:                      102.143   Durbin-Watson:                   2.077\n",
       "Prob(Omnibus):                  0.000   Jarque-Bera (JB):             1253.666\n",
       "Skew:                           3.381   Prob(JB):                    5.89e-273\n",
       "Kurtosis:                      18.973   Cond. No.                         12.4\n",
       "==============================================================================\n",
       "\n",
       "Warnings:\n",
       "[1] Standard Errors assume that the covariance matrix of the errors is correctly specified.\n",
       "\"\"\""
      ]
     },
     "execution_count": 83,
     "metadata": {},
     "output_type": "execute_result"
    }
   ],
   "source": [
    "#Consequently, we will have two different models for set 4 - the original and the transformed\n",
    "\n",
    "#Create original model\n",
    "model_4_orig = sm.ols('Y~x', data=set_4).fit()\n",
    "model_4_orig.summary()"
   ]
  },
  {
   "cell_type": "code",
   "execution_count": 84,
   "metadata": {},
   "outputs": [
    {
     "data": {
      "text/html": [
       "<table class=\"simpletable\">\n",
       "<caption>OLS Regression Results</caption>\n",
       "<tr>\n",
       "  <th>Dep. Variable:</th>          <td>log_Y</td>      <th>  R-squared:         </th> <td>   0.983</td>\n",
       "</tr>\n",
       "<tr>\n",
       "  <th>Model:</th>                   <td>OLS</td>       <th>  Adj. R-squared:    </th> <td>   0.983</td>\n",
       "</tr>\n",
       "<tr>\n",
       "  <th>Method:</th>             <td>Least Squares</td>  <th>  F-statistic:       </th> <td>   5765.</td>\n",
       "</tr>\n",
       "<tr>\n",
       "  <th>Date:</th>             <td>Sat, 14 Mar 2020</td> <th>  Prob (F-statistic):</th> <td>6.91e-89</td>\n",
       "</tr>\n",
       "<tr>\n",
       "  <th>Time:</th>                 <td>12:09:33</td>     <th>  Log-Likelihood:    </th> <td> -46.034</td>\n",
       "</tr>\n",
       "<tr>\n",
       "  <th>No. Observations:</th>      <td>   100</td>      <th>  AIC:               </th> <td>   96.07</td>\n",
       "</tr>\n",
       "<tr>\n",
       "  <th>Df Residuals:</th>          <td>    98</td>      <th>  BIC:               </th> <td>   101.3</td>\n",
       "</tr>\n",
       "<tr>\n",
       "  <th>Df Model:</th>              <td>     1</td>      <th>                     </th>     <td> </td>   \n",
       "</tr>\n",
       "<tr>\n",
       "  <th>Covariance Type:</th>      <td>nonrobust</td>    <th>                     </th>     <td> </td>   \n",
       "</tr>\n",
       "</table>\n",
       "<table class=\"simpletable\">\n",
       "<tr>\n",
       "      <td></td>         <th>coef</th>     <th>std err</th>      <th>t</th>      <th>P>|t|</th>  <th>[0.025</th>    <th>0.975]</th>  \n",
       "</tr>\n",
       "<tr>\n",
       "  <th>Intercept</th> <td>    5.6647</td> <td>    0.078</td> <td>   72.264</td> <td> 0.000</td> <td>    5.509</td> <td>    5.820</td>\n",
       "</tr>\n",
       "<tr>\n",
       "  <th>x</th>         <td>    0.9898</td> <td>    0.013</td> <td>   75.930</td> <td> 0.000</td> <td>    0.964</td> <td>    1.016</td>\n",
       "</tr>\n",
       "</table>\n",
       "<table class=\"simpletable\">\n",
       "<tr>\n",
       "  <th>Omnibus:</th>       <td> 7.020</td> <th>  Durbin-Watson:     </th> <td>   2.151</td>\n",
       "</tr>\n",
       "<tr>\n",
       "  <th>Prob(Omnibus):</th> <td> 0.030</td> <th>  Jarque-Bera (JB):  </th> <td>   7.256</td>\n",
       "</tr>\n",
       "<tr>\n",
       "  <th>Skew:</th>          <td>-0.657</td> <th>  Prob(JB):          </th> <td>  0.0266</td>\n",
       "</tr>\n",
       "<tr>\n",
       "  <th>Kurtosis:</th>      <td> 2.872</td> <th>  Cond. No.          </th> <td>    12.4</td>\n",
       "</tr>\n",
       "</table><br/><br/>Warnings:<br/>[1] Standard Errors assume that the covariance matrix of the errors is correctly specified."
      ],
      "text/plain": [
       "<class 'statsmodels.iolib.summary.Summary'>\n",
       "\"\"\"\n",
       "                            OLS Regression Results                            \n",
       "==============================================================================\n",
       "Dep. Variable:                  log_Y   R-squared:                       0.983\n",
       "Model:                            OLS   Adj. R-squared:                  0.983\n",
       "Method:                 Least Squares   F-statistic:                     5765.\n",
       "Date:                Sat, 14 Mar 2020   Prob (F-statistic):           6.91e-89\n",
       "Time:                        12:09:33   Log-Likelihood:                -46.034\n",
       "No. Observations:                 100   AIC:                             96.07\n",
       "Df Residuals:                      98   BIC:                             101.3\n",
       "Df Model:                           1                                         \n",
       "Covariance Type:            nonrobust                                         \n",
       "==============================================================================\n",
       "                 coef    std err          t      P>|t|      [0.025      0.975]\n",
       "------------------------------------------------------------------------------\n",
       "Intercept      5.6647      0.078     72.264      0.000       5.509       5.820\n",
       "x              0.9898      0.013     75.930      0.000       0.964       1.016\n",
       "==============================================================================\n",
       "Omnibus:                        7.020   Durbin-Watson:                   2.151\n",
       "Prob(Omnibus):                  0.030   Jarque-Bera (JB):                7.256\n",
       "Skew:                          -0.657   Prob(JB):                       0.0266\n",
       "Kurtosis:                       2.872   Cond. No.                         12.4\n",
       "==============================================================================\n",
       "\n",
       "Warnings:\n",
       "[1] Standard Errors assume that the covariance matrix of the errors is correctly specified.\n",
       "\"\"\""
      ]
     },
     "execution_count": 84,
     "metadata": {},
     "output_type": "execute_result"
    }
   ],
   "source": [
    "#Log Y model\n",
    "model_4_log = sm.ols('log_Y~x', data=set_4).fit()\n",
    "model_4_log.summary()"
   ]
  },
  {
   "cell_type": "code",
   "execution_count": null,
   "metadata": {},
   "outputs": [],
   "source": [
    "#Here, we observe a stark difference in the model fits; the original model has an R^2 of less than 0.4, while the log_Y model\n",
    "#has an R^2 over 0.98. This indicates that the transformed model explains much more of the variation in the data than the\n",
    "#original model"
   ]
  },
  {
   "cell_type": "code",
   "execution_count": 86,
   "metadata": {},
   "outputs": [
    {
     "data": {
      "image/png": "[encoded data removed]",
      "text/plain": [
       "<Figure size 432x288 with 1 Axes>"
      ]
     },
     "metadata": {
      "needs_background": "light"
     },
     "output_type": "display_data"
    }
   ],
   "source": [
    "#Testing OLS Assumptions - Original (untransformed) Model\n",
    "\n",
    "#In evaluating the regression assumptions, it will be helpful to add our predicted values to the set_4 df\n",
    "intercept, slope=model_4_orig.params\n",
    "set_4['y_est'] = intercept + slope * set_4.x\n",
    "set_4\n",
    "\n",
    "#Assumption 1 - Linearity\n",
    "\n",
    "#Based on the scatter plot created above, we can confirm that X and Y are NOT linearly related, meaning that this assumption is\n",
    "#NOT satisfied (plot reproduced below for convenience)\n",
    "plt.plot(set_4.x, set_4.Y, 'yo')\n",
    "plt.xlabel('x')\n",
    "plt.ylabel('y')\n",
    "plt.title('Set 4')\n",
    "plt.show()"
   ]
  },
  {
   "cell_type": "code",
   "execution_count": 87,
   "metadata": {},
   "outputs": [
    {
     "data": {
      "image/png": "[encoded data removed]",
      "text/plain": [
       "<Figure size 432x288 with 1 Axes>"
      ]
     },
     "metadata": {
      "needs_background": "light"
     },
     "output_type": "display_data"
    }
   ],
   "source": [
    "#Assumption 2 - Normality of Error Terms\n",
    "\n",
    "#Normality test with pylab\n",
    "stats.probplot(set_4.Y-set_4.y_est, dist=\"norm\", plot=pylab) #Residuals=y_observed-y_est \n",
    "pylab.title('QQ Plot: Test Residuals') \n",
    "pylab.show()"
   ]
  },
  {
   "cell_type": "code",
   "execution_count": 102,
   "metadata": {},
   "outputs": [],
   "source": [
    "#Above, we see that the blue dots do not follow the red normal line very closely, meaning that the model violates our second\n",
    "#assumption as well"
   ]
  },
  {
   "cell_type": "code",
   "execution_count": 104,
   "metadata": {},
   "outputs": [
    {
     "data": {
      "image/png": "[encoded data removed]",
      "text/plain": [
       "<Figure size 432x288 with 1 Axes>"
      ]
     },
     "metadata": {
      "needs_background": "light"
     },
     "output_type": "display_data"
    }
   ],
   "source": [
    "#Assumption 3 - Homeoskedascticity (Equal Variance in Error Terms)\n",
    "\n",
    "#By plotting residuals vs predicted values of y, we can determine if variance increases (or decreases) as y_est increases\n",
    "plt.plot(set_4.y_est, set_4.Y-set_4.y_est,'oy')\n",
    "plt.xlabel('Predicted y')\n",
    "plt.ylabel('Residuals')\n",
    "plt.title('Predicted vs Residuals')\n",
    "plt.tick_params(axis='x')\n",
    "plt.tick_params(axis='y')"
   ]
  },
  {
   "cell_type": "code",
   "execution_count": 105,
   "metadata": {},
   "outputs": [],
   "source": [
    "#Unsurprisingly, the homeoskedasticity assumption is also violated by this model, as variance first decreases as y_est increases\n",
    "#but then starts to increase somewhere between y_est of 100,000 and 150,000"
   ]
  },
  {
   "cell_type": "code",
   "execution_count": 235,
   "metadata": {},
   "outputs": [
    {
     "data": {
      "image/png": "[encoded data removed]",
      "text/plain": [
       "<Figure size 432x288 with 1 Axes>"
      ]
     },
     "metadata": {
      "needs_background": "light"
     },
     "output_type": "display_data"
    }
   ],
   "source": [
    "#Testing OLS Assumptions - Log Y (transformed) Model\n",
    "\n",
    "#In evaluating the regression assumptions, it will be helpful to add our predicted values to the set_4 df\n",
    "intercept, slope=model_4_log.params\n",
    "set_4['y_est_log'] = intercept + slope * set_4.x\n",
    "set_4\n",
    "\n",
    "#Assumption 1 - Linearity\n",
    "\n",
    "#Based on the scatter plot created above, we can confirm that X and Y are NOT linearly related, meaning that this assumption is\n",
    "#NOT satisfied (plot reproduced below for convenience)\n",
    "plt.plot(set_4.x, set_4.log_Y, 'yo')\n",
    "plt.xlabel('x')\n",
    "plt.ylabel('log(y)')\n",
    "plt.title('Set 4')\n",
    "plt.show()\n",
    "\n",
    "#Note also, that after the transformation, there are no obivous outliers in this dataset."
   ]
  },
  {
   "cell_type": "code",
   "execution_count": 110,
   "metadata": {},
   "outputs": [
    {
     "data": {
      "image/png": "[encoded data removed]",
      "text/plain": [
       "<Figure size 432x288 with 1 Axes>"
      ]
     },
     "metadata": {
      "needs_background": "light"
     },
     "output_type": "display_data"
    }
   ],
   "source": [
    "#Assumption 2 - Normality of Error Terms\n",
    "\n",
    "#Normality test with pylab\n",
    "stats.probplot(set_4.log_Y-set_4.y_est_log, dist=\"norm\", plot=pylab) #Residuals=y_observed-y_est \n",
    "pylab.title('QQ Plot: Test Residuals') \n",
    "pylab.show()"
   ]
  },
  {
   "cell_type": "code",
   "execution_count": 111,
   "metadata": {},
   "outputs": [],
   "source": [
    "#While I'm not entirely confident that this model passes the normality test, the plotted points come much closer to following\n",
    "#the normal line than they did in the untransformed model. This is a good sign."
   ]
  },
  {
   "cell_type": "code",
   "execution_count": 112,
   "metadata": {},
   "outputs": [
    {
     "data": {
      "image/png": "[encoded data removed]",
      "text/plain": [
       "<Figure size 432x288 with 1 Axes>"
      ]
     },
     "metadata": {
      "needs_background": "light"
     },
     "output_type": "display_data"
    }
   ],
   "source": [
    "#Assumption 3 - Homeoskedascticity (Equal Variance in Error Terms)\n",
    "\n",
    "#By plotting residuals vs predicted values of y, we can determine if variance increases (or decreases) as y_est increases\n",
    "plt.plot(set_4.y_est_log, set_4.log_Y-set_4.y_est_log,'oy')\n",
    "plt.xlabel('Predicted y')\n",
    "plt.ylabel('Residuals')\n",
    "plt.title('Predicted vs Residuals')\n",
    "plt.tick_params(axis='x')\n",
    "plt.tick_params(axis='y')"
   ]
  },
  {
   "cell_type": "code",
   "execution_count": null,
   "metadata": {},
   "outputs": [],
   "source": [
    "#The transformed model appears to adhere to our third assumption, as there is no observable pattern in the plot of residuals\n",
    "#vs. predicted y"
   ]
  },
  {
   "cell_type": "code",
   "execution_count": 241,
   "metadata": {},
   "outputs": [
    {
     "name": "stdout",
     "output_type": "stream",
     "text": [
      "The intercept for the original model can be interpreted as the value of the resposne (Y) when the random variable X equals 0.\n",
      "The intercept of the log-transformed model (B0) can be interpreted as the value of the response (log(Y)) when the value of the regressor (X) equals 0. If we wanted to express this relationship in terms of Y itself (and not log(Y)), we could say the value of the response, Y, (when X=0) is equal to e^B0, where B0 is the intercept.\n",
      "\n",
      "The slope of the original model can be interpreted as the increase in the reponse (Y) for a unit increase of the RV X.\n",
      "The slope of the log-transformed model can be interpreted as the increase in the reponse (log(Y)) for a unit increase of the RV X. If we wanted to know how Y itself varies with a change in X, we could say that the response, Y, increases linearly as a function of e^(B0+B1X), where B1 is the slope. So, a unit increase is B1 does not imply a unit increase in Y.\n",
      "\n",
      "Due to the improved performance of the transformed model (as evidenced by the higher R^2), we can be confident that the transformed model adheres more closely to OLS assumptions.\n",
      "\n",
      "           Original Model  Log-Transformed\n",
      "Intercept      -753500.00           5.6647\n",
      "Slope           270700.00           0.9898\n",
      "R-Square             0.38           0.9830\n",
      "NOBS               100.00         100.0000\n"
     ]
    }
   ],
   "source": [
    "#Summary of Dataset 4\n",
    "\n",
    "#To summarize the key information regarding dataset 3, I'll create a dataframe with some key model parameters\n",
    "summary_4 = pd.DataFrame({\"Original Model\": [-7.535e+05, 2.707e+05, 0.38, 100], \"Log-Transformed\": [5.6647, 0.9898, 0.983, 100]}, \n",
    "                          index=['Intercept', 'Slope', 'R-Square', 'NOBS'])\n",
    "\n",
    "#Interpretation of Intercept and Slope\n",
    "print(\"The intercept for the original model can be interpreted as the value of the resposne (Y) when the random variable X\", \n",
    "      \"equals 0.\")\n",
    "print(\"The intercept of the log-transformed model (B0) can be interpreted as the value of the response (log(Y)) when the value\",\n",
    "     \"of the regressor (X) equals 0. If we wanted to express this relationship in terms of Y itself (and not log(Y)), we could\", \n",
    "      \"say the value of the response, Y, (when X=0) is equal to e^B0, where B0 is the intercept.\")\n",
    "print(\"\")\n",
    "print(\"The slope of the original model can be interpreted as the increase in the reponse (Y) for a unit increase of the RV X.\")\n",
    "print(\"The slope of the log-transformed model can be interpreted as the increase in the reponse (log(Y)) for a unit increase\",\n",
    "      \"of the RV X. If we wanted to know how Y itself varies with a change in X, we could say that the response, Y, increases\",\n",
    "     \"linearly as a function of e^(B0+B1X), where B1 is the slope. So, a unit increase is B1 does not imply a unit increase\",\n",
    "     \"in Y.\")\n",
    "print(\"\")\n",
    "print(\"Due to the improved performance of the transformed model (as evidenced by the higher R^2), we can be confident that\",\n",
    "     \"the transformed model adheres more closely to OLS assumptions.\")\n",
    "print(\"\")\n",
    "print(summary_4)"
   ]
  },
  {
   "cell_type": "code",
   "execution_count": 215,
   "metadata": {},
   "outputs": [
    {
     "data": {
      "image/png": "[encoded data removed]",
      "text/plain": [
       "<Figure size 432x288 with 1 Axes>"
      ]
     },
     "metadata": {
      "needs_background": "light"
     },
     "output_type": "display_data"
    }
   ],
   "source": [
    "#Dataset 5\n",
    "\n",
    "#Import set 2\n",
    "set_5 = pd.read_csv(\"Set_5.csv\")\n",
    "\n",
    "#Plot set 2 to determine whether a transformation is required\n",
    "plt.plot(set_5.X, set_5.Y, 'om')\n",
    "plt.xlabel('x')\n",
    "plt.ylabel('y')\n",
    "plt.title('Set 5')\n",
    "plt.show()"
   ]
  },
  {
   "cell_type": "code",
   "execution_count": 137,
   "metadata": {},
   "outputs": [],
   "source": [
    "#Here, we clearly have a linear relationship , but we have a very outlier in the bottom right corner. There are two other\n",
    "#borderline outliers as well, at roughly (2, 0.25) and (0.2, 18), but to me, they're close enough to keep. \n",
    "#Before removing them, I'll run the original model and see how it affects the model's key parameters (i.e. slope, intercept, \n",
    "#R^2)."
   ]
  },
  {
   "cell_type": "code",
   "execution_count": 216,
   "metadata": {},
   "outputs": [
    {
     "data": {
      "text/html": [
       "<table class=\"simpletable\">\n",
       "<caption>OLS Regression Results</caption>\n",
       "<tr>\n",
       "  <th>Dep. Variable:</th>            <td>Y</td>        <th>  R-squared:         </th> <td>   0.806</td>\n",
       "</tr>\n",
       "<tr>\n",
       "  <th>Model:</th>                   <td>OLS</td>       <th>  Adj. R-squared:    </th> <td>   0.804</td>\n",
       "</tr>\n",
       "<tr>\n",
       "  <th>Method:</th>             <td>Least Squares</td>  <th>  F-statistic:       </th> <td>   411.9</td>\n",
       "</tr>\n",
       "<tr>\n",
       "  <th>Date:</th>             <td>Sat, 14 Mar 2020</td> <th>  Prob (F-statistic):</th> <td>4.70e-37</td>\n",
       "</tr>\n",
       "<tr>\n",
       "  <th>Time:</th>                 <td>14:59:43</td>     <th>  Log-Likelihood:    </th> <td> -334.42</td>\n",
       "</tr>\n",
       "<tr>\n",
       "  <th>No. Observations:</th>      <td>   101</td>      <th>  AIC:               </th> <td>   672.8</td>\n",
       "</tr>\n",
       "<tr>\n",
       "  <th>Df Residuals:</th>          <td>    99</td>      <th>  BIC:               </th> <td>   678.1</td>\n",
       "</tr>\n",
       "<tr>\n",
       "  <th>Df Model:</th>              <td>     1</td>      <th>                     </th>     <td> </td>   \n",
       "</tr>\n",
       "<tr>\n",
       "  <th>Covariance Type:</th>      <td>nonrobust</td>    <th>                     </th>     <td> </td>   \n",
       "</tr>\n",
       "</table>\n",
       "<table class=\"simpletable\">\n",
       "<tr>\n",
       "      <td></td>         <th>coef</th>     <th>std err</th>      <th>t</th>      <th>P>|t|</th>  <th>[0.025</th>    <th>0.975]</th>  \n",
       "</tr>\n",
       "<tr>\n",
       "  <th>Intercept</th> <td>    0.9213</td> <td>    1.346</td> <td>    0.685</td> <td> 0.495</td> <td>   -1.749</td> <td>    3.591</td>\n",
       "</tr>\n",
       "<tr>\n",
       "  <th>X</th>         <td>    4.7671</td> <td>    0.235</td> <td>   20.294</td> <td> 0.000</td> <td>    4.301</td> <td>    5.233</td>\n",
       "</tr>\n",
       "</table>\n",
       "<table class=\"simpletable\">\n",
       "<tr>\n",
       "  <th>Omnibus:</th>       <td>113.783</td> <th>  Durbin-Watson:     </th> <td>   1.491</td>\n",
       "</tr>\n",
       "<tr>\n",
       "  <th>Prob(Omnibus):</th> <td> 0.000</td>  <th>  Jarque-Bera (JB):  </th> <td>2578.951</td>\n",
       "</tr>\n",
       "<tr>\n",
       "  <th>Skew:</th>          <td>-3.591</td>  <th>  Prob(JB):          </th> <td>    0.00</td>\n",
       "</tr>\n",
       "<tr>\n",
       "  <th>Kurtosis:</th>      <td>26.691</td>  <th>  Cond. No.          </th> <td>    11.8</td>\n",
       "</tr>\n",
       "</table><br/><br/>Warnings:<br/>[1] Standard Errors assume that the covariance matrix of the errors is correctly specified."
      ],
      "text/plain": [
       "<class 'statsmodels.iolib.summary.Summary'>\n",
       "\"\"\"\n",
       "                            OLS Regression Results                            \n",
       "==============================================================================\n",
       "Dep. Variable:                      Y   R-squared:                       0.806\n",
       "Model:                            OLS   Adj. R-squared:                  0.804\n",
       "Method:                 Least Squares   F-statistic:                     411.9\n",
       "Date:                Sat, 14 Mar 2020   Prob (F-statistic):           4.70e-37\n",
       "Time:                        14:59:43   Log-Likelihood:                -334.42\n",
       "No. Observations:                 101   AIC:                             672.8\n",
       "Df Residuals:                      99   BIC:                             678.1\n",
       "Df Model:                           1                                         \n",
       "Covariance Type:            nonrobust                                         \n",
       "==============================================================================\n",
       "                 coef    std err          t      P>|t|      [0.025      0.975]\n",
       "------------------------------------------------------------------------------\n",
       "Intercept      0.9213      1.346      0.685      0.495      -1.749       3.591\n",
       "X              4.7671      0.235     20.294      0.000       4.301       5.233\n",
       "==============================================================================\n",
       "Omnibus:                      113.783   Durbin-Watson:                   1.491\n",
       "Prob(Omnibus):                  0.000   Jarque-Bera (JB):             2578.951\n",
       "Skew:                          -3.591   Prob(JB):                         0.00\n",
       "Kurtosis:                      26.691   Cond. No.                         11.8\n",
       "==============================================================================\n",
       "\n",
       "Warnings:\n",
       "[1] Standard Errors assume that the covariance matrix of the errors is correctly specified.\n",
       "\"\"\""
      ]
     },
     "execution_count": 216,
     "metadata": {},
     "output_type": "execute_result"
    }
   ],
   "source": [
    "#Original Model\n",
    "model_5_orig = sm.ols('Y~X', data=set_5).fit()\n",
    "model_5_orig.summary()"
   ]
  },
  {
   "cell_type": "code",
   "execution_count": 217,
   "metadata": {},
   "outputs": [
    {
     "name": "stdout",
     "output_type": "stream",
     "text": [
      "             Y        X\n",
      "0    47.320319  9.05270\n",
      "1    39.862491  7.31350\n",
      "2    42.225779  8.64710\n",
      "3    30.010689  5.85790\n",
      "4    43.900459  7.93570\n",
      "5    25.911334  5.75610\n",
      "6    23.739310  4.48320\n",
      "7    40.810390  7.72760\n",
      "8    48.725594  9.28480\n",
      "9    26.023814  4.67720\n",
      "10   39.877756  8.18930\n",
      "11   17.813641  3.55080\n",
      "12    6.654544  0.63300\n",
      "13   11.778539  1.89600\n",
      "14    9.606713  2.49260\n",
      "15   34.857496  6.26530\n",
      "16   49.263557  8.61400\n",
      "17   11.145343  3.04670\n",
      "18   21.719755  3.93120\n",
      "19   28.343163  5.22570\n",
      "20   41.239770  7.59080\n",
      "21   22.801657  4.46750\n",
      "22   50.135544  9.19990\n",
      "23   -3.222694  0.59470\n",
      "24   52.839325  9.81980\n",
      "25   13.714705  1.72460\n",
      "26   -3.375994  2.08390\n",
      "27    6.348974  2.08470\n",
      "28   35.783242  6.98560\n",
      "29   32.289571  5.41380\n",
      "30   39.317533  7.74380\n",
      "31   14.589749  5.00320\n",
      "32   25.800704  4.71470\n",
      "33   24.463927  6.54990\n",
      "34   25.659742  5.86050\n",
      "35   40.311554  7.46020\n",
      "36   13.226107  2.82750\n",
      "37   18.380021  3.12160\n",
      "38   16.025912  3.00960\n",
      "39   43.302718  6.92260\n",
      "40   13.204304  2.93350\n",
      "41   20.429710  4.60490\n",
      "42   11.392384  2.28170\n",
      "43   -1.453000  0.20050\n",
      "44   41.060147  9.85770\n",
      "45   36.100789  6.54070\n",
      "46   40.721922  8.58140\n",
      "47   14.166248  4.32290\n",
      "48    6.981100  1.50740\n",
      "49   17.593373  2.07620\n",
      "50   19.125074  4.64870\n",
      "51    7.021763  2.12640\n",
      "52    1.018407  0.49530\n",
      "53   27.456752  5.77390\n",
      "54    8.025134  1.88860\n",
      "55   19.992962  3.30640\n",
      "56    8.829224  1.30120\n",
      "57   41.846338  7.81980\n",
      "58   17.625780  0.55940\n",
      "59   47.750535  7.94470\n",
      "60   28.095572  7.24040\n",
      "61   37.866002  8.13290\n",
      "62   22.511052  4.85110\n",
      "63   43.199387  9.31750\n",
      "64    1.883644  0.16940\n",
      "65   29.727618  5.65720\n",
      "66   14.610951  1.50390\n",
      "67   35.392065  6.49760\n",
      "68    3.969962  1.44750\n",
      "69   19.408581  3.39920\n",
      "70    9.454866  1.96880\n",
      "71   29.193112  5.62330\n",
      "72    9.700667  1.74780\n",
      "73   10.771332  2.35390\n",
      "74   43.018928  7.13030\n",
      "75   27.863764  5.28140\n",
      "76   -3.433582  0.78570\n",
      "77   39.801907  7.69110\n",
      "78   40.547072  8.97010\n",
      "79   38.726765  5.97240\n",
      "80   22.181399  3.12380\n",
      "81   12.535342  3.48190\n",
      "82   43.368604  8.19110\n",
      "83   31.430037  6.71350\n",
      "84   15.161247  3.66650\n",
      "85   12.774006  2.88860\n",
      "86   33.448512  6.75190\n",
      "87   25.977026  4.94090\n",
      "88   33.037190  5.77240\n",
      "89    7.433620  0.99800\n",
      "90   34.716041  8.11100\n",
      "91   -4.448560  0.50390\n",
      "92   45.848913  9.93920\n",
      "93   11.278916  1.35870\n",
      "94   15.893051  2.31420\n",
      "95   34.299702  6.00580\n",
      "96    1.027913  0.94690\n",
      "97   33.965305  8.41480\n",
      "98   39.077962  6.66190\n",
      "99   48.254626  9.51610\n",
      "100   1.032140  9.97071\n"
     ]
    }
   ],
   "source": [
    "#Now let's try removing the outlier in the bottom right corner of the plot. We know its value is approximately (10, 0), so\n",
    "#we can find this point in the dataframe and remove it.\n",
    "print(set_5.to_string())"
   ]
  },
  {
   "cell_type": "code",
   "execution_count": 219,
   "metadata": {},
   "outputs": [
    {
     "data": {
      "image/png": "[encoded data removed]",
      "text/plain": [
       "<Figure size 432x288 with 1 Axes>"
      ]
     },
     "metadata": {
      "needs_background": "light"
     },
     "output_type": "display_data"
    }
   ],
   "source": [
    "#Based on the table printed above, it looks like the outlier is actually the last point in the dataset - observation 100.\n",
    "#I'll remove it using iloc.\n",
    "set_5_tidy = set_5.iloc[0:100, :]\n",
    "\n",
    "#Plot set_5_tidy to ensure proper observation was removed\n",
    "plt.plot(set_5_tidy.X, set_5_tidy.Y, \"mo\")\n",
    "plt.xlabel(\"X\")\n",
    "plt.ylabel(\"Y\")\n",
    "plt.title(\"Set 5 - No Outliers\")\n",
    "plt.show()"
   ]
  },
  {
   "cell_type": "code",
   "execution_count": 220,
   "metadata": {},
   "outputs": [
    {
     "data": {
      "text/html": [
       "<table class=\"simpletable\">\n",
       "<caption>OLS Regression Results</caption>\n",
       "<tr>\n",
       "  <th>Dep. Variable:</th>            <td>Y</td>        <th>  R-squared:         </th> <td>   0.906</td>\n",
       "</tr>\n",
       "<tr>\n",
       "  <th>Model:</th>                   <td>OLS</td>       <th>  Adj. R-squared:    </th> <td>   0.905</td>\n",
       "</tr>\n",
       "<tr>\n",
       "  <th>Method:</th>             <td>Least Squares</td>  <th>  F-statistic:       </th> <td>   945.8</td>\n",
       "</tr>\n",
       "<tr>\n",
       "  <th>Date:</th>             <td>Sat, 14 Mar 2020</td> <th>  Prob (F-statistic):</th> <td>3.84e-52</td>\n",
       "</tr>\n",
       "<tr>\n",
       "  <th>Time:</th>                 <td>15:00:04</td>     <th>  Log-Likelihood:    </th> <td> -294.13</td>\n",
       "</tr>\n",
       "<tr>\n",
       "  <th>No. Observations:</th>      <td>   100</td>      <th>  AIC:               </th> <td>   592.3</td>\n",
       "</tr>\n",
       "<tr>\n",
       "  <th>Df Residuals:</th>          <td>    98</td>      <th>  BIC:               </th> <td>   597.5</td>\n",
       "</tr>\n",
       "<tr>\n",
       "  <th>Df Model:</th>              <td>     1</td>      <th>                     </th>     <td> </td>   \n",
       "</tr>\n",
       "<tr>\n",
       "  <th>Covariance Type:</th>      <td>nonrobust</td>    <th>                     </th>     <td> </td>   \n",
       "</tr>\n",
       "</table>\n",
       "<table class=\"simpletable\">\n",
       "<tr>\n",
       "      <td></td>         <th>coef</th>     <th>std err</th>      <th>t</th>      <th>P>|t|</th>  <th>[0.025</th>    <th>0.975]</th>  \n",
       "</tr>\n",
       "<tr>\n",
       "  <th>Intercept</th> <td>   -0.0993</td> <td>    0.935</td> <td>   -0.106</td> <td> 0.916</td> <td>   -1.954</td> <td>    1.756</td>\n",
       "</tr>\n",
       "<tr>\n",
       "  <th>X</th>         <td>    5.0705</td> <td>    0.165</td> <td>   30.753</td> <td> 0.000</td> <td>    4.743</td> <td>    5.398</td>\n",
       "</tr>\n",
       "</table>\n",
       "<table class=\"simpletable\">\n",
       "<tr>\n",
       "  <th>Omnibus:</th>       <td> 3.022</td> <th>  Durbin-Watson:     </th> <td>   1.918</td>\n",
       "</tr>\n",
       "<tr>\n",
       "  <th>Prob(Omnibus):</th> <td> 0.221</td> <th>  Jarque-Bera (JB):  </th> <td>   2.760</td>\n",
       "</tr>\n",
       "<tr>\n",
       "  <th>Skew:</th>          <td>-0.158</td> <th>  Prob(JB):          </th> <td>   0.252</td>\n",
       "</tr>\n",
       "<tr>\n",
       "  <th>Kurtosis:</th>      <td> 3.750</td> <th>  Cond. No.          </th> <td>    11.7</td>\n",
       "</tr>\n",
       "</table><br/><br/>Warnings:<br/>[1] Standard Errors assume that the covariance matrix of the errors is correctly specified."
      ],
      "text/plain": [
       "<class 'statsmodels.iolib.summary.Summary'>\n",
       "\"\"\"\n",
       "                            OLS Regression Results                            \n",
       "==============================================================================\n",
       "Dep. Variable:                      Y   R-squared:                       0.906\n",
       "Model:                            OLS   Adj. R-squared:                  0.905\n",
       "Method:                 Least Squares   F-statistic:                     945.8\n",
       "Date:                Sat, 14 Mar 2020   Prob (F-statistic):           3.84e-52\n",
       "Time:                        15:00:04   Log-Likelihood:                -294.13\n",
       "No. Observations:                 100   AIC:                             592.3\n",
       "Df Residuals:                      98   BIC:                             597.5\n",
       "Df Model:                           1                                         \n",
       "Covariance Type:            nonrobust                                         \n",
       "==============================================================================\n",
       "                 coef    std err          t      P>|t|      [0.025      0.975]\n",
       "------------------------------------------------------------------------------\n",
       "Intercept     -0.0993      0.935     -0.106      0.916      -1.954       1.756\n",
       "X              5.0705      0.165     30.753      0.000       4.743       5.398\n",
       "==============================================================================\n",
       "Omnibus:                        3.022   Durbin-Watson:                   1.918\n",
       "Prob(Omnibus):                  0.221   Jarque-Bera (JB):                2.760\n",
       "Skew:                          -0.158   Prob(JB):                        0.252\n",
       "Kurtosis:                       3.750   Cond. No.                         11.7\n",
       "==============================================================================\n",
       "\n",
       "Warnings:\n",
       "[1] Standard Errors assume that the covariance matrix of the errors is correctly specified.\n",
       "\"\"\""
      ]
     },
     "execution_count": 220,
     "metadata": {},
     "output_type": "execute_result"
    }
   ],
   "source": [
    "#Rerun the model to compare parameters\n",
    "model_5_tidy = sm.ols('Y~X', data=set_5_tidy).fit()\n",
    "model_5_tidy.summary()"
   ]
  },
  {
   "cell_type": "code",
   "execution_count": 221,
   "metadata": {},
   "outputs": [
    {
     "data": {
      "text/html": [
       "<div>\n",
       "<style scoped>\n",
       "    .dataframe tbody tr th:only-of-type {\n",
       "        vertical-align: middle;\n",
       "    }\n",
       "\n",
       "    .dataframe tbody tr th {\n",
       "        vertical-align: top;\n",
       "    }\n",
       "\n",
       "    .dataframe thead th {\n",
       "        text-align: right;\n",
       "    }\n",
       "</style>\n",
       "<table border=\"1\" class=\"dataframe\">\n",
       "  <thead>\n",
       "    <tr style=\"text-align: right;\">\n",
       "      <th></th>\n",
       "      <th>With Outlier</th>\n",
       "      <th>Without Outlier</th>\n",
       "    </tr>\n",
       "  </thead>\n",
       "  <tbody>\n",
       "    <tr>\n",
       "      <td>Intercept</td>\n",
       "      <td>0.9213</td>\n",
       "      <td>-0.0993</td>\n",
       "    </tr>\n",
       "    <tr>\n",
       "      <td>Slope</td>\n",
       "      <td>4.7671</td>\n",
       "      <td>5.0705</td>\n",
       "    </tr>\n",
       "    <tr>\n",
       "      <td>R-Square</td>\n",
       "      <td>0.8060</td>\n",
       "      <td>0.9060</td>\n",
       "    </tr>\n",
       "  </tbody>\n",
       "</table>\n",
       "</div>"
      ],
      "text/plain": [
       "           With Outlier  Without Outlier\n",
       "Intercept        0.9213          -0.0993\n",
       "Slope            4.7671           5.0705\n",
       "R-Square         0.8060           0.9060"
      ]
     },
     "execution_count": 221,
     "metadata": {},
     "output_type": "execute_result"
    }
   ],
   "source": [
    "#By manually comparing the two regression outputs manully, we can construct a table to facilitate comapre of the models.\n",
    "\n",
    "df_compare_5 = pd.DataFrame({\"With Outlier\": [0.9213, 4.7671, 0.806], \"Without Outlier\": [-0.0993, 5.0705, 0.906]}, \n",
    "                          index=['Intercept', 'Slope', 'R-Square'])\n",
    "df_compare_5"
   ]
  },
  {
   "cell_type": "code",
   "execution_count": 161,
   "metadata": {},
   "outputs": [],
   "source": [
    "#As can be seen above, the model explains much more of the variation in the data without the outlier, as the R^2 is almost 0.1\n",
    "#higher. Additionally, it's interesting to note that the outlier had such a huge impact on the intercept of the model. This is\n",
    "#not surprising, as the line of best fit would be moved considerably by the outlier.\n",
    "\n",
    "#This indicates that the outlier has LEVERAGE."
   ]
  },
  {
   "cell_type": "code",
   "execution_count": 162,
   "metadata": {},
   "outputs": [],
   "source": [
    "#Let's circle back and test the revised model's assumptions (makes more sense to test better model)"
   ]
  },
  {
   "cell_type": "code",
   "execution_count": 170,
   "metadata": {},
   "outputs": [
    {
     "name": "stderr",
     "output_type": "stream",
     "text": [
      "C:\\Users\\alex_\\Anaconda_3\\lib\\site-packages\\ipykernel_launcher.py:5: SettingWithCopyWarning: \n",
      "A value is trying to be set on a copy of a slice from a DataFrame.\n",
      "Try using .loc[row_indexer,col_indexer] = value instead\n",
      "\n",
      "See the caveats in the documentation: http://pandas.pydata.org/pandas-docs/stable/user_guide/indexing.html#returning-a-view-versus-a-copy\n",
      "  \"\"\"\n"
     ]
    },
    {
     "data": {
      "image/png": "[encoded data removed]",
      "text/plain": [
       "<Figure size 432x288 with 1 Axes>"
      ]
     },
     "metadata": {
      "needs_background": "light"
     },
     "output_type": "display_data"
    }
   ],
   "source": [
    "#Assumption 1 - Linearity\n",
    "\n",
    "#In evaluating the regression assumptions, it will be helpful to add our predicted values to the set_1 df\n",
    "intercept, slope=model_5_tidy.params\n",
    "set_5_tidy['y_est'] = intercept + slope * set_5_tidy.X\n",
    "set_5_tidy\n",
    "\n",
    "#Based on the scatter plot created above for set 5, we can confirm that X and Y are linearly related, meaning that this \n",
    "#assumption is satisfied (plot reproduced below for convenience)\n",
    "plt.plot(set_5_tidy.X, set_5_tidy.Y, 'om')\n",
    "plt.xlabel('x')\n",
    "plt.ylabel('y')\n",
    "plt.title('Set 5 - No Outliers')\n",
    "plt.show()"
   ]
  },
  {
   "cell_type": "code",
   "execution_count": 172,
   "metadata": {},
   "outputs": [
    {
     "data": {
      "image/png": "[encoded data removed]",
      "text/plain": [
       "<Figure size 432x288 with 1 Axes>"
      ]
     },
     "metadata": {
      "needs_background": "light"
     },
     "output_type": "display_data"
    }
   ],
   "source": [
    "#Assumption 2 - Normality of Error Terms\n",
    "\n",
    "#As before, we make use of the pylab package.\n",
    "stats.probplot(set_5_tidy.Y-set_5_tidy.y_est, dist=\"norm\", plot=pylab) #Residuals=y_observed-y_est \n",
    "pylab.title('QQ Plot: Test Residuals') \n",
    "pylab.show()"
   ]
  },
  {
   "cell_type": "code",
   "execution_count": 173,
   "metadata": {},
   "outputs": [],
   "source": [
    "#Based on the above QQ plot, we see that the model satisfies the normality assumption, as the points follow the straight line\n",
    "#fairly closely"
   ]
  },
  {
   "cell_type": "code",
   "execution_count": 175,
   "metadata": {},
   "outputs": [
    {
     "data": {
      "image/png": "[encoded data removed]",
      "text/plain": [
       "<Figure size 432x288 with 1 Axes>"
      ]
     },
     "metadata": {
      "needs_background": "light"
     },
     "output_type": "display_data"
    }
   ],
   "source": [
    "#Assumption 3 - Homeoskedascticity (Equal Variance in Error Terms)\n",
    "\n",
    "#By plotting residuals vs predicted values of y, we can determine if variance increases (or decreases) as y_est increases\n",
    "plt.plot(set_5_tidy.y_est, set_5_tidy.Y-set_5_tidy.y_est,'om')\n",
    "plt.xlabel('Predicted y')\n",
    "plt.ylabel('Residuals')\n",
    "plt.title('Predicted vs Residuals')\n",
    "plt.tick_params(axis='x')\n",
    "plt.tick_params(axis='y')"
   ]
  },
  {
   "cell_type": "code",
   "execution_count": null,
   "metadata": {},
   "outputs": [],
   "source": [
    "#While there are a few suspect points, such as the one in the top left corner, this plot demonstrates that the outlier-free\n",
    "#model satisfies the homeoskedasticity assumption, as there is no discernable pattern in the data."
   ]
  },
  {
   "cell_type": "code",
   "execution_count": 223,
   "metadata": {},
   "outputs": [
    {
     "name": "stdout",
     "output_type": "stream",
     "text": [
      "The intercept for each model can be interpreted as the value of the resposne (Y) when the random variable X equals 0.\n",
      "The slope of each model can be interpreted as the increase in the reponse (Y) for a unit increase of the RV X.\n",
      "For dataset 5, the outlier-free model performed more effectively, as evidenced by the higher R^2. The significant difference in performance also indicates that the outlier has leverage.\n",
      "\n",
      "           Original Model  Outlier-Free Model\n",
      "Intercept          0.9213             -0.0993\n",
      "Slope              4.7671              5.0705\n",
      "R-Square           0.8060              0.9060\n",
      "NOBS             101.0000            100.0000\n"
     ]
    }
   ],
   "source": [
    "#Summary of Dataset 5\n",
    "\n",
    "#To summarize the key information regarding dataset 6, I'll create a dataframe with some key model parameters\n",
    "summary_5 = pd.DataFrame({\"Original Model\": [0.9213, 4.7671, 0.806, 101], \"Outlier-Free Model\": [-0.0993, 5.0705, 0.906, 100]}, \n",
    "                          index=['Intercept', 'Slope', 'R-Square', 'NOBS'])\n",
    "print(\"The intercept for each model can be interpreted as the value of the resposne (Y) when the random variable X equals 0.\")\n",
    "print(\"The slope of each model can be interpreted as the increase in the reponse (Y) for a unit increase of the RV X.\")\n",
    "print(\"For dataset 5, the outlier-free model performed more effectively, as evidenced by the higher R^2. The significant\",\n",
    "     \"difference in performance also indicates that the outlier has leverage.\")\n",
    "print(\"\")\n",
    "print(summary_5)"
   ]
  },
  {
   "cell_type": "code",
   "execution_count": 180,
   "metadata": {},
   "outputs": [
    {
     "data": {
      "image/png": "[encoded data removed]",
      "text/plain": [
       "<Figure size 432x288 with 1 Axes>"
      ]
     },
     "metadata": {
      "needs_background": "light"
     },
     "output_type": "display_data"
    }
   ],
   "source": [
    "#Dataset 6\n",
    "\n",
    "#Import set 2\n",
    "set_6 = pd.read_csv(\"Set_6.csv\")\n",
    "\n",
    "#Plot set 2 to determine whether a transformation is required\n",
    "plt.plot(set_6.x, set_6.y, 'oc')\n",
    "plt.xlabel('x')\n",
    "plt.ylabel('y')\n",
    "plt.title('Set 6')\n",
    "plt.show()"
   ]
  },
  {
   "cell_type": "code",
   "execution_count": 181,
   "metadata": {},
   "outputs": [
    {
     "name": "stdout",
     "output_type": "stream",
     "text": [
      "          y        x\n",
      "0     -2.76   1.1290\n",
      "1     61.07   6.9100\n",
      "2     52.85   7.8374\n",
      "3     -2.88   0.1335\n",
      "4     59.05   9.2425\n",
      "5     46.86   9.9926\n",
      "6     41.27   5.4567\n",
      "7     24.45   2.3628\n",
      "8     49.92   7.7712\n",
      "9     34.87   5.0911\n",
      "10    50.08   5.8775\n",
      "11    -1.20   1.0513\n",
      "12    67.86   8.6587\n",
      "13    50.11   6.9500\n",
      "14    35.59   4.8714\n",
      "15    58.82   5.9794\n",
      "16    24.57   4.7624\n",
      "17    56.70   7.4212\n",
      "18    24.66   2.3518\n",
      "19    19.09   4.7791\n",
      "20    62.00   8.1479\n",
      "21    48.13   8.2098\n",
      "22    37.17   5.4460\n",
      "23    56.27   8.4028\n",
      "24    66.52   9.9014\n",
      "25    37.02   6.0243\n",
      "26    20.65   1.8010\n",
      "27    19.13   2.1140\n",
      "28    90.71   9.7829\n",
      "29    18.38   2.5393\n",
      "30    52.27   7.7541\n",
      "31    22.65   3.7960\n",
      "32    20.58   3.6352\n",
      "33     5.76   1.3574\n",
      "34    25.45   3.5957\n",
      "35    47.25   6.3027\n",
      "36    -0.58   1.4334\n",
      "37     1.65   1.3038\n",
      "38    44.50   6.7741\n",
      "39    62.76   7.5684\n",
      "40    62.91   8.0215\n",
      "41    54.52   9.1155\n",
      "42    47.32   3.9302\n",
      "43    57.24   8.1085\n",
      "44    58.67   9.3468\n",
      "45    -6.76   0.5072\n",
      "46    17.74   1.2977\n",
      "47    28.67   3.6825\n",
      "48    69.51   8.4267\n",
      "49    59.74   7.9714\n",
      "50    38.04   5.2419\n",
      "51    62.51   7.7572\n",
      "52    56.47   4.7645\n",
      "53    17.17   5.0460\n",
      "54    36.70   3.0467\n",
      "55    23.50   3.4423\n",
      "56    57.70   9.4111\n",
      "57    16.92   1.3700\n",
      "58     1.11   3.3175\n",
      "59    43.23   5.8115\n",
      "60    56.70   8.9348\n",
      "61    19.89   3.3399\n",
      "62    72.15   9.7720\n",
      "63    11.45   1.3853\n",
      "64     1.58   1.8349\n",
      "65    65.23   9.4294\n",
      "66    39.49   7.5832\n",
      "67    58.68   8.7083\n",
      "68     1.26   0.2425\n",
      "69     2.03   0.1118\n",
      "70     0.07   0.2649\n",
      "71    52.91   8.1231\n",
      "72    34.19   4.8438\n",
      "73    34.95   4.2287\n",
      "74    50.82   7.6338\n",
      "75    61.19   6.6954\n",
      "76    21.42   0.9757\n",
      "77    14.00   2.0862\n",
      "78     8.68   0.3009\n",
      "79     0.69   0.5014\n",
      "80    27.92   1.5692\n",
      "81    39.87   6.4434\n",
      "82    14.50   4.1531\n",
      "83    51.66   4.9743\n",
      "84    21.10   4.6788\n",
      "85    54.71   9.5197\n",
      "86    21.40   3.0384\n",
      "87    66.13   8.1760\n",
      "88    56.81   8.8231\n",
      "89    10.55   3.6867\n",
      "90    29.83   4.8103\n",
      "91    45.08   7.3403\n",
      "92    27.99   5.6592\n",
      "93    -3.42   1.9197\n",
      "94    75.79   9.6312\n",
      "95    57.89   7.6842\n",
      "96    56.70   8.7167\n",
      "97    70.34   9.6165\n",
      "98    20.79   1.7477\n",
      "99    59.02   8.3886\n",
      "100  252.84  35.7834\n"
     ]
    }
   ],
   "source": [
    "#As with dataset 5, this plot has a very obvious outlier at approximately (35, 250), so let's search the dataset for this point\n",
    "#and remove it\n",
    "\n",
    "#Print full dataset\n",
    "print(set_6.to_string())"
   ]
  },
  {
   "cell_type": "code",
   "execution_count": 183,
   "metadata": {},
   "outputs": [
    {
     "data": {
      "text/html": [
       "<div>\n",
       "<style scoped>\n",
       "    .dataframe tbody tr th:only-of-type {\n",
       "        vertical-align: middle;\n",
       "    }\n",
       "\n",
       "    .dataframe tbody tr th {\n",
       "        vertical-align: top;\n",
       "    }\n",
       "\n",
       "    .dataframe thead th {\n",
       "        text-align: right;\n",
       "    }\n",
       "</style>\n",
       "<table border=\"1\" class=\"dataframe\">\n",
       "  <thead>\n",
       "    <tr style=\"text-align: right;\">\n",
       "      <th></th>\n",
       "      <th>y</th>\n",
       "      <th>x</th>\n",
       "    </tr>\n",
       "  </thead>\n",
       "  <tbody>\n",
       "    <tr>\n",
       "      <td>0</td>\n",
       "      <td>-2.76</td>\n",
       "      <td>1.1290</td>\n",
       "    </tr>\n",
       "    <tr>\n",
       "      <td>1</td>\n",
       "      <td>61.07</td>\n",
       "      <td>6.9100</td>\n",
       "    </tr>\n",
       "    <tr>\n",
       "      <td>2</td>\n",
       "      <td>52.85</td>\n",
       "      <td>7.8374</td>\n",
       "    </tr>\n",
       "    <tr>\n",
       "      <td>3</td>\n",
       "      <td>-2.88</td>\n",
       "      <td>0.1335</td>\n",
       "    </tr>\n",
       "    <tr>\n",
       "      <td>4</td>\n",
       "      <td>59.05</td>\n",
       "      <td>9.2425</td>\n",
       "    </tr>\n",
       "    <tr>\n",
       "      <td>...</td>\n",
       "      <td>...</td>\n",
       "      <td>...</td>\n",
       "    </tr>\n",
       "    <tr>\n",
       "      <td>95</td>\n",
       "      <td>57.89</td>\n",
       "      <td>7.6842</td>\n",
       "    </tr>\n",
       "    <tr>\n",
       "      <td>96</td>\n",
       "      <td>56.70</td>\n",
       "      <td>8.7167</td>\n",
       "    </tr>\n",
       "    <tr>\n",
       "      <td>97</td>\n",
       "      <td>70.34</td>\n",
       "      <td>9.6165</td>\n",
       "    </tr>\n",
       "    <tr>\n",
       "      <td>98</td>\n",
       "      <td>20.79</td>\n",
       "      <td>1.7477</td>\n",
       "    </tr>\n",
       "    <tr>\n",
       "      <td>99</td>\n",
       "      <td>59.02</td>\n",
       "      <td>8.3886</td>\n",
       "    </tr>\n",
       "  </tbody>\n",
       "</table>\n",
       "<p>100 rows × 2 columns</p>\n",
       "</div>"
      ],
      "text/plain": [
       "        y       x\n",
       "0   -2.76  1.1290\n",
       "1   61.07  6.9100\n",
       "2   52.85  7.8374\n",
       "3   -2.88  0.1335\n",
       "4   59.05  9.2425\n",
       "..    ...     ...\n",
       "95  57.89  7.6842\n",
       "96  56.70  8.7167\n",
       "97  70.34  9.6165\n",
       "98  20.79  1.7477\n",
       "99  59.02  8.3886\n",
       "\n",
       "[100 rows x 2 columns]"
      ]
     },
     "execution_count": 183,
     "metadata": {},
     "output_type": "execute_result"
    }
   ],
   "source": [
    "#We see that the point (35.7834, 252.84) is our outlier, so let's remove it from the dataset\n",
    "set_6_tidy = set_6.iloc[0:100, :]\n",
    "set_6_tidy"
   ]
  },
  {
   "cell_type": "code",
   "execution_count": 185,
   "metadata": {},
   "outputs": [
    {
     "data": {
      "image/png": "[encoded data removed]",
      "text/plain": [
       "<Figure size 432x288 with 1 Axes>"
      ]
     },
     "metadata": {
      "needs_background": "light"
     },
     "output_type": "display_data"
    }
   ],
   "source": [
    "#Plot set_6_tidy to confirm outlier has been removed\n",
    "plt.plot(set_6_tidy.x, set_6_tidy.y, \"co\")\n",
    "plt.xlabel('x')\n",
    "plt.ylabel('y')\n",
    "plt.title('Set 6 - No Outliers')\n",
    "plt.show()"
   ]
  },
  {
   "cell_type": "code",
   "execution_count": 187,
   "metadata": {},
   "outputs": [
    {
     "data": {
      "text/html": [
       "<table class=\"simpletable\">\n",
       "<caption>OLS Regression Results</caption>\n",
       "<tr>\n",
       "  <th>Dep. Variable:</th>            <td>y</td>        <th>  R-squared:         </th> <td>   0.913</td>\n",
       "</tr>\n",
       "<tr>\n",
       "  <th>Model:</th>                   <td>OLS</td>       <th>  Adj. R-squared:    </th> <td>   0.912</td>\n",
       "</tr>\n",
       "<tr>\n",
       "  <th>Method:</th>             <td>Least Squares</td>  <th>  F-statistic:       </th> <td>   1041.</td>\n",
       "</tr>\n",
       "<tr>\n",
       "  <th>Date:</th>             <td>Sat, 14 Mar 2020</td> <th>  Prob (F-statistic):</th> <td>2.49e-54</td>\n",
       "</tr>\n",
       "<tr>\n",
       "  <th>Time:</th>                 <td>14:23:29</td>     <th>  Log-Likelihood:    </th> <td> -367.52</td>\n",
       "</tr>\n",
       "<tr>\n",
       "  <th>No. Observations:</th>      <td>   101</td>      <th>  AIC:               </th> <td>   739.0</td>\n",
       "</tr>\n",
       "<tr>\n",
       "  <th>Df Residuals:</th>          <td>    99</td>      <th>  BIC:               </th> <td>   744.3</td>\n",
       "</tr>\n",
       "<tr>\n",
       "  <th>Df Model:</th>              <td>     1</td>      <th>                     </th>     <td> </td>   \n",
       "</tr>\n",
       "<tr>\n",
       "  <th>Covariance Type:</th>      <td>nonrobust</td>    <th>                     </th>     <td> </td>   \n",
       "</tr>\n",
       "</table>\n",
       "<table class=\"simpletable\">\n",
       "<tr>\n",
       "      <td></td>         <th>coef</th>     <th>std err</th>      <th>t</th>      <th>P>|t|</th>  <th>[0.025</th>    <th>0.975]</th>  \n",
       "</tr>\n",
       "<tr>\n",
       "  <th>Intercept</th> <td>   -0.3054</td> <td>    1.534</td> <td>   -0.199</td> <td> 0.843</td> <td>   -3.350</td> <td>    2.739</td>\n",
       "</tr>\n",
       "<tr>\n",
       "  <th>x</th>         <td>    7.0272</td> <td>    0.218</td> <td>   32.259</td> <td> 0.000</td> <td>    6.595</td> <td>    7.459</td>\n",
       "</tr>\n",
       "</table>\n",
       "<table class=\"simpletable\">\n",
       "<tr>\n",
       "  <th>Omnibus:</th>       <td> 0.493</td> <th>  Durbin-Watson:     </th> <td>   2.255</td>\n",
       "</tr>\n",
       "<tr>\n",
       "  <th>Prob(Omnibus):</th> <td> 0.782</td> <th>  Jarque-Bera (JB):  </th> <td>   0.261</td>\n",
       "</tr>\n",
       "<tr>\n",
       "  <th>Skew:</th>          <td> 0.120</td> <th>  Prob(JB):          </th> <td>   0.877</td>\n",
       "</tr>\n",
       "<tr>\n",
       "  <th>Kurtosis:</th>      <td> 3.070</td> <th>  Cond. No.          </th> <td>    11.8</td>\n",
       "</tr>\n",
       "</table><br/><br/>Warnings:<br/>[1] Standard Errors assume that the covariance matrix of the errors is correctly specified."
      ],
      "text/plain": [
       "<class 'statsmodels.iolib.summary.Summary'>\n",
       "\"\"\"\n",
       "                            OLS Regression Results                            \n",
       "==============================================================================\n",
       "Dep. Variable:                      y   R-squared:                       0.913\n",
       "Model:                            OLS   Adj. R-squared:                  0.912\n",
       "Method:                 Least Squares   F-statistic:                     1041.\n",
       "Date:                Sat, 14 Mar 2020   Prob (F-statistic):           2.49e-54\n",
       "Time:                        14:23:29   Log-Likelihood:                -367.52\n",
       "No. Observations:                 101   AIC:                             739.0\n",
       "Df Residuals:                      99   BIC:                             744.3\n",
       "Df Model:                           1                                         \n",
       "Covariance Type:            nonrobust                                         \n",
       "==============================================================================\n",
       "                 coef    std err          t      P>|t|      [0.025      0.975]\n",
       "------------------------------------------------------------------------------\n",
       "Intercept     -0.3054      1.534     -0.199      0.843      -3.350       2.739\n",
       "x              7.0272      0.218     32.259      0.000       6.595       7.459\n",
       "==============================================================================\n",
       "Omnibus:                        0.493   Durbin-Watson:                   2.255\n",
       "Prob(Omnibus):                  0.782   Jarque-Bera (JB):                0.261\n",
       "Skew:                           0.120   Prob(JB):                        0.877\n",
       "Kurtosis:                       3.070   Cond. No.                         11.8\n",
       "==============================================================================\n",
       "\n",
       "Warnings:\n",
       "[1] Standard Errors assume that the covariance matrix of the errors is correctly specified.\n",
       "\"\"\""
      ]
     },
     "execution_count": 187,
     "metadata": {},
     "output_type": "execute_result"
    }
   ],
   "source": [
    "#Now, let's compare the regression models with and without the outlier\n",
    "\n",
    "#Original Model\n",
    "model_6_orig = sm.ols('y~x', data=set_6).fit()\n",
    "model_6_orig.summary()"
   ]
  },
  {
   "cell_type": "code",
   "execution_count": 188,
   "metadata": {},
   "outputs": [
    {
     "data": {
      "text/html": [
       "<table class=\"simpletable\">\n",
       "<caption>OLS Regression Results</caption>\n",
       "<tr>\n",
       "  <th>Dep. Variable:</th>            <td>y</td>        <th>  R-squared:         </th> <td>   0.837</td>\n",
       "</tr>\n",
       "<tr>\n",
       "  <th>Model:</th>                   <td>OLS</td>       <th>  Adj. R-squared:    </th> <td>   0.835</td>\n",
       "</tr>\n",
       "<tr>\n",
       "  <th>Method:</th>             <td>Least Squares</td>  <th>  F-statistic:       </th> <td>   502.7</td>\n",
       "</tr>\n",
       "<tr>\n",
       "  <th>Date:</th>             <td>Sat, 14 Mar 2020</td> <th>  Prob (F-statistic):</th> <td>2.29e-40</td>\n",
       "</tr>\n",
       "<tr>\n",
       "  <th>Time:</th>                 <td>14:24:24</td>     <th>  Log-Likelihood:    </th> <td> -364.34</td>\n",
       "</tr>\n",
       "<tr>\n",
       "  <th>No. Observations:</th>      <td>   100</td>      <th>  AIC:               </th> <td>   732.7</td>\n",
       "</tr>\n",
       "<tr>\n",
       "  <th>Df Residuals:</th>          <td>    98</td>      <th>  BIC:               </th> <td>   737.9</td>\n",
       "</tr>\n",
       "<tr>\n",
       "  <th>Df Model:</th>              <td>     1</td>      <th>                     </th>     <td> </td>   \n",
       "</tr>\n",
       "<tr>\n",
       "  <th>Covariance Type:</th>      <td>nonrobust</td>    <th>                     </th>     <td> </td>   \n",
       "</tr>\n",
       "</table>\n",
       "<table class=\"simpletable\">\n",
       "<tr>\n",
       "      <td></td>         <th>coef</th>     <th>std err</th>      <th>t</th>      <th>P>|t|</th>  <th>[0.025</th>    <th>0.975]</th>  \n",
       "</tr>\n",
       "<tr>\n",
       "  <th>Intercept</th> <td>   -0.0194</td> <td>    1.899</td> <td>   -0.010</td> <td> 0.992</td> <td>   -3.788</td> <td>    3.749</td>\n",
       "</tr>\n",
       "<tr>\n",
       "  <th>x</th>         <td>    6.9702</td> <td>    0.311</td> <td>   22.420</td> <td> 0.000</td> <td>    6.353</td> <td>    7.587</td>\n",
       "</tr>\n",
       "</table>\n",
       "<table class=\"simpletable\">\n",
       "<tr>\n",
       "  <th>Omnibus:</th>       <td> 0.458</td> <th>  Durbin-Watson:     </th> <td>   2.259</td>\n",
       "</tr>\n",
       "<tr>\n",
       "  <th>Prob(Omnibus):</th> <td> 0.795</td> <th>  Jarque-Bera (JB):  </th> <td>   0.261</td>\n",
       "</tr>\n",
       "<tr>\n",
       "  <th>Skew:</th>          <td> 0.123</td> <th>  Prob(JB):          </th> <td>   0.878</td>\n",
       "</tr>\n",
       "<tr>\n",
       "  <th>Kurtosis:</th>      <td> 3.044</td> <th>  Cond. No.          </th> <td>    12.7</td>\n",
       "</tr>\n",
       "</table><br/><br/>Warnings:<br/>[1] Standard Errors assume that the covariance matrix of the errors is correctly specified."
      ],
      "text/plain": [
       "<class 'statsmodels.iolib.summary.Summary'>\n",
       "\"\"\"\n",
       "                            OLS Regression Results                            \n",
       "==============================================================================\n",
       "Dep. Variable:                      y   R-squared:                       0.837\n",
       "Model:                            OLS   Adj. R-squared:                  0.835\n",
       "Method:                 Least Squares   F-statistic:                     502.7\n",
       "Date:                Sat, 14 Mar 2020   Prob (F-statistic):           2.29e-40\n",
       "Time:                        14:24:24   Log-Likelihood:                -364.34\n",
       "No. Observations:                 100   AIC:                             732.7\n",
       "Df Residuals:                      98   BIC:                             737.9\n",
       "Df Model:                           1                                         \n",
       "Covariance Type:            nonrobust                                         \n",
       "==============================================================================\n",
       "                 coef    std err          t      P>|t|      [0.025      0.975]\n",
       "------------------------------------------------------------------------------\n",
       "Intercept     -0.0194      1.899     -0.010      0.992      -3.788       3.749\n",
       "x              6.9702      0.311     22.420      0.000       6.353       7.587\n",
       "==============================================================================\n",
       "Omnibus:                        0.458   Durbin-Watson:                   2.259\n",
       "Prob(Omnibus):                  0.795   Jarque-Bera (JB):                0.261\n",
       "Skew:                           0.123   Prob(JB):                        0.878\n",
       "Kurtosis:                       3.044   Cond. No.                         12.7\n",
       "==============================================================================\n",
       "\n",
       "Warnings:\n",
       "[1] Standard Errors assume that the covariance matrix of the errors is correctly specified.\n",
       "\"\"\""
      ]
     },
     "execution_count": 188,
     "metadata": {},
     "output_type": "execute_result"
    }
   ],
   "source": [
    "#Tidy Model\n",
    "model_6_tidy = sm.ols('y~x', data=set_6_tidy).fit()\n",
    "model_6_tidy.summary()"
   ]
  },
  {
   "cell_type": "code",
   "execution_count": 190,
   "metadata": {},
   "outputs": [
    {
     "data": {
      "text/html": [
       "<div>\n",
       "<style scoped>\n",
       "    .dataframe tbody tr th:only-of-type {\n",
       "        vertical-align: middle;\n",
       "    }\n",
       "\n",
       "    .dataframe tbody tr th {\n",
       "        vertical-align: top;\n",
       "    }\n",
       "\n",
       "    .dataframe thead th {\n",
       "        text-align: right;\n",
       "    }\n",
       "</style>\n",
       "<table border=\"1\" class=\"dataframe\">\n",
       "  <thead>\n",
       "    <tr style=\"text-align: right;\">\n",
       "      <th></th>\n",
       "      <th>With Outlier</th>\n",
       "      <th>Without Outlier</th>\n",
       "    </tr>\n",
       "  </thead>\n",
       "  <tbody>\n",
       "    <tr>\n",
       "      <td>Intercept</td>\n",
       "      <td>-0.3054</td>\n",
       "      <td>-0.0194</td>\n",
       "    </tr>\n",
       "    <tr>\n",
       "      <td>Slope</td>\n",
       "      <td>7.0272</td>\n",
       "      <td>6.9702</td>\n",
       "    </tr>\n",
       "    <tr>\n",
       "      <td>R-Square</td>\n",
       "      <td>0.9130</td>\n",
       "      <td>0.8370</td>\n",
       "    </tr>\n",
       "  </tbody>\n",
       "</table>\n",
       "</div>"
      ],
      "text/plain": [
       "           With Outlier  Without Outlier\n",
       "Intercept       -0.3054          -0.0194\n",
       "Slope            7.0272           6.9702\n",
       "R-Square         0.9130           0.8370"
      ]
     },
     "execution_count": 190,
     "metadata": {},
     "output_type": "execute_result"
    }
   ],
   "source": [
    "#Interesting, we actually see a deterioration in model performance AFTER removing the outlier here. Perhaps this is because the\n",
    "#outlier happens to fall along/near the line of best fit for the original model. See below for a comparison of model parameters\n",
    "#with and without the outlier - this suggests the outlier has LEVERAGE.\n",
    "df_compare_6 = pd.DataFrame({\"With Outlier\": [-0.3054, 7.0272, 0.913], \"Without Outlier\": [-0.0194, 6.9702, 0.837]}, \n",
    "                          index=['Intercept', 'Slope', 'R-Square'])\n",
    "df_compare_6"
   ]
  },
  {
   "cell_type": "code",
   "execution_count": 191,
   "metadata": {},
   "outputs": [],
   "source": [
    "#Since the original model is actually the better one, let's use that one and test whether it satisfies our assumptions"
   ]
  },
  {
   "cell_type": "code",
   "execution_count": 192,
   "metadata": {},
   "outputs": [
    {
     "data": {
      "image/png": "[encoded data removed]",
      "text/plain": [
       "<Figure size 432x288 with 1 Axes>"
      ]
     },
     "metadata": {
      "needs_background": "light"
     },
     "output_type": "display_data"
    }
   ],
   "source": [
    "#Evaluating OLS assumptions (simple linear regression)\n",
    "\n",
    "#In evaluating the regression assumptions, it will be helpful to add our predicted values to the set_6 df\n",
    "intercept, slope=model_6_orig.params\n",
    "set_6['y_est'] = intercept + slope * set_6.x\n",
    "set_6\n",
    "\n",
    "#Assumption 1 - Linearity\n",
    "\n",
    "#Based on the scatter plot created above, we can confirm that X and Y are linearly related, meaning that this assumption is\n",
    "#satisfied (plot reproduced below for convenience)\n",
    "plt.plot(set_6.x, set_6.y, 'oc')\n",
    "plt.xlabel('x')\n",
    "plt.ylabel('y')\n",
    "plt.title('Set 6')\n",
    "plt.show()"
   ]
  },
  {
   "cell_type": "code",
   "execution_count": 193,
   "metadata": {},
   "outputs": [
    {
     "data": {
      "image/png": "[encoded data removed]",
      "text/plain": [
       "<Figure size 432x288 with 1 Axes>"
      ]
     },
     "metadata": {
      "needs_background": "light"
     },
     "output_type": "display_data"
    }
   ],
   "source": [
    "#Assumption 2 - Normality of Error Terms\n",
    "stats.probplot(set_6.y-set_6.y_est, dist=\"norm\", plot=pylab) #Residuals=y_observed-y_est \n",
    "pylab.title('QQ Plot: Test Residuals') \n",
    "pylab.show()"
   ]
  },
  {
   "cell_type": "code",
   "execution_count": 194,
   "metadata": {},
   "outputs": [],
   "source": [
    "#Since the points follow the line very closely, I'm confident in saying this model satisfies the normality of errors assumption"
   ]
  },
  {
   "cell_type": "code",
   "execution_count": 195,
   "metadata": {},
   "outputs": [
    {
     "data": {
      "image/png": "[encoded data removed]",
      "text/plain": [
       "<Figure size 432x288 with 1 Axes>"
      ]
     },
     "metadata": {
      "needs_background": "light"
     },
     "output_type": "display_data"
    }
   ],
   "source": [
    "#Assumption 3 - Homeoskedascticity (Equal Variance in Error Terms)\n",
    "\n",
    "#By plotting residuals vs predicted values of y, we can determine if variance increases (or decreases) as y_est increases\n",
    "plt.plot(set_6.y_est, set_6.y-set_6.y_est,'oc')\n",
    "plt.xlabel('Predicted y')\n",
    "plt.ylabel('Residuals')\n",
    "plt.title('Predicted vs Residuals')\n",
    "plt.tick_params(axis='x')\n",
    "plt.tick_params(axis='y')"
   ]
  },
  {
   "cell_type": "code",
   "execution_count": 196,
   "metadata": {},
   "outputs": [],
   "source": [
    "#Although this plot looks odd, it actually satifies assumption 3, as the outlier's variance lies roughly along the line of\n",
    "#best fit for this plot. THus, I'm confident in saying that the original model meets the homeoskedasticity assumption."
   ]
  },
  {
   "cell_type": "code",
   "execution_count": 224,
   "metadata": {},
   "outputs": [
    {
     "name": "stdout",
     "output_type": "stream",
     "text": [
      "The intercept for both models can be interpreted as the value of the resposne (Y) when the random variable X equals 0.\n",
      "The slope of each model can be interpreted as the increase in the reponse (Y) for a unit increase of the RV X.\n",
      "For dataset 6, the outlier-free model performed LESS effectively, as evidenced by the lower R^2. The significant difference in performance also indicates that the outlier has leverage.\n",
      "\n",
      "           Original Model  Outlier-Free Model\n",
      "Intercept         -0.3054             -0.0194\n",
      "Slope              7.0272              6.9702\n",
      "R-Square           0.9130              0.8370\n",
      "NOBS             101.0000            100.0000\n"
     ]
    }
   ],
   "source": [
    "#Summary of Dataset 6\n",
    "\n",
    "#To summarize the key information regarding dataset 6, I'll create a dataframe with some key model parameters\n",
    "summary_6 = pd.DataFrame({\"Original Model\": [-0.3054, 7.0272, 0.913, 101], \"Outlier-Free Model\": [-0.0194, 6.9702, 0.837, 100]}, \n",
    "                          index=['Intercept', 'Slope', 'R-Square', 'NOBS'])\n",
    "\n",
    "#Interpretation of Intercept and Slope\n",
    "print(\"The intercept for both models can be interpreted as the value of the resposne (Y) when the random variable X equals 0.\")\n",
    "print(\"The slope of each model can be interpreted as the increase in the reponse (Y) for a unit increase of the RV X.\")\n",
    "print(\"For dataset 6, the outlier-free model performed LESS effectively, as evidenced by the lower R^2. The significant\", \n",
    "     \"difference in performance also indicates that the outlier has leverage.\")\n",
    "print(\"\")\n",
    "print(summary_6)"
   ]
  }
 ],
 "metadata": {
  "kernelspec": {
   "display_name": "Python 3",
   "language": "python",
   "name": "python3"
  },
  "language_info": {
   "codemirror_mode": {
    "name": "ipython",
    "version": 3
   },
   "file_extension": ".py",
   "mimetype": "text/x-python",
   "name": "python",
   "nbconvert_exporter": "python",
   "pygments_lexer": "ipython3",
   "version": "3.7.4"
  }
 },
 "nbformat": 4,
 "nbformat_minor": 2
}

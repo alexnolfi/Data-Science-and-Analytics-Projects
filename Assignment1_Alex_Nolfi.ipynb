{
 "cells": [
  {
   "cell_type": "markdown",
   "metadata": {},
   "source": [
    "## Assignment 1 \n",
    "\n",
    "This assignment is based on the video discussed in module 1.\n",
    "\n",
    "John Rauser ( 2014). Statistics Without the Agonizing Pain. Strata Hadoop 2014. Retrieved from https://www.youtube.com/watch?v=5Dnw46eC-0o\n",
    "\n",
    "(Source: https://www.youtube.com/watch?v=5Dnw46eC-0o )\n",
    "\n",
    "\n",
    "\n",
    "\n",
    " \n",
    "  \n",
    " "
   ]
  },
  {
   "cell_type": "markdown",
   "metadata": {},
   "source": [
    "## Learning outcomes"
   ]
  },
  {
   "cell_type": "markdown",
   "metadata": {},
   "source": [
    "- Use code to work with data\n",
    "- Calculate basic statistical measures \n",
    "- Implement a data simulation by using resampling \n"
   ]
  },
  {
   "cell_type": "markdown",
   "metadata": {},
   "source": [
    "**Question 1**\n",
    "\n",
    "1. Using the dataset from the video ( _mosquitos_data.csv_) in the folder, write Python code to:\n",
    "\n",
    "    - Create side-by-side boxplots for the number of mosquitos in each group ( _beer vs water) \n",
    "    - What does the graph reveal about the data for both groups?  Is there an association between beer       consumption and attractiveness to mosquitos.\n",
    "    - Calculate basic statistics measures for each group: Mean, median, standard deviation and explain the numbers.\n",
    "\n",
    "2. Write code to implement the data simulation demonstrated in the above mentioned video.  Calculate the probability of obtaining the experiment outcome assuming no association between beer consumption."
   ]
  },
  {
   "cell_type": "markdown",
   "metadata": {},
   "source": [
    "## Hints\n",
    "\n",
    "- Use pandas, matplotlib, or seaborn to plot boxplots in Python. \n",
    "- Label the graphs wherever applicable e.g, title, legend, units etc.\n",
    "\n",
    "\n",
    "\n"
   ]
  },
  {
   "cell_type": "code",
   "execution_count": 52,
   "metadata": {},
   "outputs": [
    {
     "data": {
      "text/plain": [
       "Text(0.5, 0.98, '')"
      ]
     },
     "execution_count": 52,
     "metadata": {},
     "output_type": "execute_result"
    },
    {
     "data": {
      "image/png": "[encoded data removed]",
      "text/plain": [
       "<Figure size 432x288 with 1 Axes>"
      ]
     },
     "metadata": {
      "needs_background": "light"
     },
     "output_type": "display_data"
    }
   ],
   "source": [
    "#Question 1\n",
    "\n",
    "#Load key libraries \n",
    "import pandas as pd\n",
    "import matplotlib.pyplot as plt\n",
    "\n",
    "#Import dataset and examine first few rows\n",
    "mosquito = pd.read_csv(\"mosquitos_data.csv\")\n",
    "mosquito.head()\n",
    "\n",
    "#Create boxplot chart to compare beer treatment vs. water treatment groups\n",
    "bp=mosquito.boxplot(by='Treatment')\n",
    "bp.set_xlabel(\"Treatment\")\n",
    "bp.set_ylabel(\"Number of Mosquitoes Trapped\")\n",
    "bp.set_title(\"Number of Mosquitoes Trapped by Treatment\")\n",
    "plt.suptitle('')"
   ]
  },
  {
   "cell_type": "code",
   "execution_count": null,
   "metadata": {},
   "outputs": [],
   "source": [
    "#Interpretation of the graph\n",
    "\n",
    "#The median number of mosquitoes attracted to participants in the \"beer\" group is significantly higher than in the \"water\"\n",
    "#group (as illustrated by the horizontal bars in the middle of each box), and by the descriptive statistics below (median \n",
    "#of 24 vs 20). This is the first piece of evidence that shows an association between beer consumption and mosquito attraction.\n",
    "\n",
    "#There is also a difference of approximately 4.4 between the groups' two means, providing furhter evidence of the association\n",
    "\n",
    "#To me, the greatest piece of evidence in favour of the association is that the minimum number of mosquitoes attracted by \n",
    "#any single participant in the beer group (illustrated by the lower horizontal bar at y=~ 17) is greater than the first \n",
    "#quartile value of the water group (illustrated by the lower horizontal bar of the box). This means that roughly 25%\n",
    "#of participants in the \"water\" group had fewer numbers of mosquitoes attracted to them than the lowest observation in the\n",
    "#beer group. We see a similar pattern on the upper end as well, where the \"water\" group maximum is approximately equal to the\n",
    "#\"beer\" group median."
   ]
  },
  {
   "cell_type": "code",
   "execution_count": 4,
   "metadata": {},
   "outputs": [
    {
     "data": {
      "text/plain": [
       "Treatment\n",
       "Beer     23.600000\n",
       "Water    19.222222\n",
       "Name: Response, dtype: float64"
      ]
     },
     "execution_count": 4,
     "metadata": {},
     "output_type": "execute_result"
    }
   ],
   "source": [
    "#Calculate means of each treatment group\n",
    "mosquito.groupby('Treatment')['Response'].mean()"
   ]
  },
  {
   "cell_type": "code",
   "execution_count": null,
   "metadata": {},
   "outputs": [],
   "source": [
    "#On average, participants in the \"beer\" group attracted 23.6 mosquitoes, while participants in the \"water\" group attracted 19.2\n",
    "#mosquitoes. This suggests there is in fact a difference in terms of mosquito attractiveness between the two groups."
   ]
  },
  {
   "cell_type": "code",
   "execution_count": 5,
   "metadata": {},
   "outputs": [
    {
     "data": {
      "text/plain": [
       "Treatment\n",
       "Beer     24\n",
       "Water    20\n",
       "Name: Response, dtype: int64"
      ]
     },
     "execution_count": 5,
     "metadata": {},
     "output_type": "execute_result"
    }
   ],
   "source": [
    "#Calculate medians of each treatment group\n",
    "mosquito.groupby('Treatment')['Response'].median()"
   ]
  },
  {
   "cell_type": "code",
   "execution_count": null,
   "metadata": {},
   "outputs": [],
   "source": [
    "#The median values tell a similar story to the mean values (i.e. there appears to be an association between beer consumption \n",
    "#and mosquito attractiveness). In this analysis, there is little difference between the mean and median values between groups\n",
    "#(Beer: 24 vs. 23.6; Water: 19.22 vs. 20). This suggests the data does not contain many outliers, as the mean is senstiive to\n",
    "#outliers while the median is not."
   ]
  },
  {
   "cell_type": "code",
   "execution_count": 6,
   "metadata": {},
   "outputs": [
    {
     "data": {
      "text/plain": [
       "Treatment\n",
       "Beer     4.133199\n",
       "Water    3.671120\n",
       "Name: Response, dtype: float64"
      ]
     },
     "execution_count": 6,
     "metadata": {},
     "output_type": "execute_result"
    }
   ],
   "source": [
    "#Calculate standard deviations of each treatment group\n",
    "mosquito.groupby('Treatment')['Response'].std()"
   ]
  },
  {
   "cell_type": "code",
   "execution_count": null,
   "metadata": {},
   "outputs": [],
   "source": [
    "#The standard deviation measures the variation within a sample of data; based on the values above, we see that there the \"beer\"\n",
    "#group is a little more spread out than the water group, suggesting that exposure to beer has somewhat less of a predictable \n",
    "#effect on mosquito attractiveness than exposure to water."
   ]
  },
  {
   "cell_type": "code",
   "execution_count": 8,
   "metadata": {},
   "outputs": [
    {
     "name": "stdout",
     "output_type": "stream",
     "text": [
      "Requirement already satisfied: mlxtend in c:\\users\\alex_\\anaconda_3\\lib\\site-packages (0.17.1)\n",
      "Requirement already satisfied: scikit-learn>=0.20.3 in c:\\users\\alex_\\anaconda_3\\lib\\site-packages (from mlxtend) (0.21.3)\n",
      "Requirement already satisfied: pandas>=0.24.2 in c:\\users\\alex_\\anaconda_3\\lib\\site-packages (from mlxtend) (0.25.1)\n",
      "Requirement already satisfied: numpy>=1.16.2 in c:\\users\\alex_\\anaconda_3\\lib\\site-packages (from mlxtend) (1.16.5)\n",
      "Requirement already satisfied: matplotlib>=3.0.0 in c:\\users\\alex_\\anaconda_3\\lib\\site-packages (from mlxtend) (3.1.1)\n",
      "Requirement already satisfied: scipy>=1.2.1 in c:\\users\\alex_\\anaconda_3\\lib\\site-packages (from mlxtend) (1.3.1)\n",
      "Requirement already satisfied: joblib>=0.13.2 in c:\\users\\alex_\\anaconda_3\\lib\\site-packages (from mlxtend) (0.13.2)\n",
      "Requirement already satisfied: setuptools in c:\\users\\alex_\\anaconda_3\\lib\\site-packages (from mlxtend) (41.4.0)\n",
      "Requirement already satisfied: python-dateutil>=2.6.1 in c:\\users\\alex_\\anaconda_3\\lib\\site-packages (from pandas>=0.24.2->mlxtend) (2.8.0)\n",
      "Requirement already satisfied: pytz>=2017.2 in c:\\users\\alex_\\anaconda_3\\lib\\site-packages (from pandas>=0.24.2->mlxtend) (2019.3)\n",
      "Requirement already satisfied: cycler>=0.10 in c:\\users\\alex_\\anaconda_3\\lib\\site-packages (from matplotlib>=3.0.0->mlxtend) (0.10.0)\n",
      "Requirement already satisfied: kiwisolver>=1.0.1 in c:\\users\\alex_\\anaconda_3\\lib\\site-packages (from matplotlib>=3.0.0->mlxtend) (1.1.0)\n",
      "Requirement already satisfied: pyparsing!=2.0.4,!=2.1.2,!=2.1.6,>=2.0.1 in c:\\users\\alex_\\anaconda_3\\lib\\site-packages (from matplotlib>=3.0.0->mlxtend) (2.4.2)\n",
      "Requirement already satisfied: six>=1.5 in c:\\users\\alex_\\anaconda_3\\lib\\site-packages (from python-dateutil>=2.6.1->pandas>=0.24.2->mlxtend) (1.12.0)\n",
      "Note: you may need to restart the kernel to use updated packages.\n"
     ]
    }
   ],
   "source": [
    "%pip install mlxtend #Required for question 2"
   ]
  },
  {
   "cell_type": "code",
   "execution_count": 34,
   "metadata": {},
   "outputs": [
    {
     "name": "stdout",
     "output_type": "stream",
     "text": [
      "0.00108\n"
     ]
    }
   ],
   "source": [
    "#Question 2\n",
    "\n",
    "#To replicate John Rauser's method, the first step is to split the dataset into two groups based on the treatment\n",
    "df_beer = mosquito[mosquito['Treatment']=='Beer']\n",
    "df_water = mosquito[mosquito['Treatment']=='Water']\n",
    "\n",
    "#Extract just the response column (i.e. the values that will be resampled) from each dataset\n",
    "beer = df_beer.loc[:, \"Response\"]\n",
    "water = df_water.loc[:, \"Response\"]\n",
    "\n",
    "#The next step is to perform resampling using a random permutation test method (I will use the permutation_test function from\n",
    "#the mlxtend.evaluate package)\n",
    "import mlxtend.evaluate as mle\n",
    "\n",
    "#To compute the probability that the results we obtained occurred strictly by chance (i.e. there is no \n",
    "#meaningful difference between the treatment groups), a p-value can be computed from 50,000 simulations (same number as video)\n",
    "#Note: the approximate method is used here to reduce the computation time of the simulation\n",
    "p_value = mle.permutation_test(beer, water, method='approximate', num_rounds=50000, seed=0)\n",
    "print(p_value)"
   ]
  },
  {
   "cell_type": "code",
   "execution_count": 53,
   "metadata": {},
   "outputs": [
    {
     "name": "stdout",
     "output_type": "stream",
     "text": [
      "0.00078\n"
     ]
    }
   ],
   "source": [
    "#When the seed is changed, the p-value changes slightly (in the example below, it decreases), and remains well below the 0.01 \n",
    "#threshold (the value required to reject the null at a 99% confidence level)\n",
    "\n",
    "#For example\n",
    "p_value_2 = mle.permutation_test(beer, water, method='approximate', num_rounds=50000, seed=110)\n",
    "print(p_value_2)"
   ]
  },
  {
   "cell_type": "code",
   "execution_count": 31,
   "metadata": {},
   "outputs": [],
   "source": [
    "#Based on the p-value of 0.00108 (or 0.00078), we can conclude that it is extremely unlikely to have obtained these results by \n",
    "#chance\n",
    "#A p-value of 0.00108 from 50,000 observations translates into roughly 54 occurrences where results of the simulation were\n",
    "#just as extreme (or more extreme) than the difference in means of approximately 4.4 between the two groups\n",
    "#Thus, we can safely say that beer consumption increases human attractiveness to mosquitoes"
   ]
  }
 ],
 "metadata": {
  "kernelspec": {
   "display_name": "Python 3",
   "language": "python",
   "name": "python3"
  },
  "language_info": {
   "codemirror_mode": {
    "name": "ipython",
    "version": 3
   },
   "file_extension": ".py",
   "mimetype": "text/x-python",
   "name": "python",
   "nbconvert_exporter": "python",
   "pygments_lexer": "ipython3",
   "version": "3.7.4"
  }
 },
 "nbformat": 4,
 "nbformat_minor": 2
}
